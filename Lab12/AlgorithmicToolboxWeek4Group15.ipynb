{
  "nbformat": 4,
  "nbformat_minor": 0,
  "metadata": {
    "colab": {
      "name": "AlgorithmicToolboxWeek4Group15.ipynb",
      "provenance": []
    },
    "kernelspec": {
      "name": "python3",
      "display_name": "Python 3"
    },
    "language_info": {
      "name": "python"
    }
  },
  "cells": [
    {
      "cell_type": "markdown",
      "metadata": {
        "id": "TXpM0RLOAQst"
      },
      "source": [
        "#Binary Search"
      ]
    },
    {
      "cell_type": "code",
      "metadata": {
        "colab": {
          "base_uri": "https://localhost:8080/"
        },
        "id": "F9PWxOFv-wtd",
        "outputId": "3dd095fb-0d04-471b-d76e-d95c44db8a39"
      },
      "source": [
        "%%writefile binary_search.cpp\n",
        "#include <bits/stdc++.h>\n",
        "\n",
        "using namespace std;\n",
        "\n",
        "int binary_search(const vector<int> &a, int x) {\n",
        "  int left = 0, right = (int)a.size()- 1,med; \n",
        "  while(left <= right){\n",
        "    med = left + (right-left) / 2;\n",
        "    if(a[med]==x)\n",
        "        return med;\n",
        "    if(x > a[med])\n",
        "        left = med + 1;\n",
        "    else\n",
        "        right = med - 1;    \n",
        "  }\n",
        "  return -1;\n",
        "}\n",
        "\n",
        "int main() {\n",
        "  int n;\n",
        "  cin >> n;\n",
        "  vector<int> a(n);\n",
        "  for (size_t i = 0; i < a.size(); i++) {\n",
        "    cin >> a[i];\n",
        "  }\n",
        "  int m;\n",
        "  cin >> m;\n",
        "  vector<int> b(m);\n",
        "  for (int i = 0; i < m; ++i) {\n",
        "    cin >> b[i];\n",
        "  }\n",
        "  for (int i = 0; i < m; ++i) {\n",
        "    cout << binary_search(a, b[i]) << ' ';\n",
        "  }\n",
        "}"
      ],
      "execution_count": 1,
      "outputs": [
        {
          "output_type": "stream",
          "text": [
            "Writing binary_search.cpp\n"
          ],
          "name": "stdout"
        }
      ]
    },
    {
      "cell_type": "code",
      "metadata": {
        "colab": {
          "base_uri": "https://localhost:8080/"
        },
        "id": "JjPh9mQJ_HbY",
        "outputId": "eabb30bc-5e6d-461c-973b-9085e877891d"
      },
      "source": [
        "!g++ binary_search.cpp -o binary\n",
        "!./binary"
      ],
      "execution_count": 2,
      "outputs": [
        {
          "output_type": "stream",
          "text": [
            "5 1 5 8 12 13 5 8 1 23 1 11\n",
            "2 0 -1 0 -1 "
          ],
          "name": "stdout"
        }
      ]
    },
    {
      "cell_type": "markdown",
      "metadata": {
        "id": "oXh3DjNZAOc_"
      },
      "source": [
        "#Majority Element"
      ]
    },
    {
      "cell_type": "code",
      "metadata": {
        "colab": {
          "base_uri": "https://localhost:8080/"
        },
        "id": "zazfXW14_hgW",
        "outputId": "d238541e-94a0-499a-999c-e060778ff15f"
      },
      "source": [
        "%%writefile majority_element.cpp\n",
        "#include <bits/stdc++.h>\n",
        "\n",
        "using namespace std;\n",
        "\n",
        "long long ans(vector<long long> A, int n) {\n",
        "\tmap<int, int> mapa;\n",
        "\n",
        "\tfor (int i = 0; i < n; i++)\n",
        "\t\tmapa[A[i]]++;\n",
        "\tfor (int i = 0;i < n; i++)\n",
        "\t\tif (mapa[A[i]] > n / 2)\n",
        "\t\t\treturn 1;\n",
        "\treturn 0;\n",
        "}\n",
        "int main() {\n",
        "\tlong long n;\n",
        "\tcin >> n;\n",
        "\n",
        "\tvector<long long> a(n);\n",
        "\tfor (size_t i = 0; i < n; i++) {\n",
        "\t\tcin >> a[i];\n",
        "\t}\n",
        "\tcout << ans(a, n) << ' ';\n",
        "\n",
        "\treturn 0;\n",
        "}"
      ],
      "execution_count": 3,
      "outputs": [
        {
          "output_type": "stream",
          "text": [
            "Writing majority_element.cpp\n"
          ],
          "name": "stdout"
        }
      ]
    },
    {
      "cell_type": "code",
      "metadata": {
        "colab": {
          "base_uri": "https://localhost:8080/"
        },
        "id": "m36e_f2F_1kW",
        "outputId": "1868f1f3-7cc4-4930-8946-2555f31f1b1f"
      },
      "source": [
        "!g++ majority_element.cpp -o majority \n",
        "!./majority"
      ],
      "execution_count": 4,
      "outputs": [
        {
          "output_type": "stream",
          "text": [
            "4\n",
            "1 2 3 1\n",
            "0 "
          ],
          "name": "stdout"
        }
      ]
    },
    {
      "cell_type": "markdown",
      "metadata": {
        "id": "nhEUenkVAWT-"
      },
      "source": [
        "#Improving Quicksort"
      ]
    },
    {
      "cell_type": "code",
      "metadata": {
        "colab": {
          "base_uri": "https://localhost:8080/"
        },
        "id": "odErTSp9AVkm",
        "outputId": "4151ef78-8e61-4813-f4c2-ab582871fa55"
      },
      "source": [
        "%%writefile improving_quicksort.cpp\n",
        "#include <bits/stdc++.h>\n",
        "\n",
        "using namespace std;\n",
        "\n",
        "vector<int> nueva_particion(vector<int> &a, int l, int r)\n",
        "{\n",
        "    int x = a[l], peq = l, gr = r, i = l;\n",
        "    while (i <= gr)\n",
        "    {\n",
        "        //particion  < x\n",
        "        if (a[i] < x)\n",
        "        {\n",
        "            swap(a[i], a[peq]);\n",
        "            peq++;\n",
        "            i++;\n",
        "        }\n",
        "        //particion > x\n",
        "        else if (a[i] > x)\n",
        "        {\n",
        "            swap(a[i], a[gr]);\n",
        "            gr--;\n",
        "        }\n",
        "        //particion == x\n",
        "        else\n",
        "        {\n",
        "            i++;\n",
        "        }\n",
        "    }\n",
        "\n",
        "    return vector<int>{peq, gr};\n",
        "}\n",
        "\n",
        "void randomized_quick_sort(vector<int> &a, int l, int r)\n",
        "{\n",
        "    if (l >= r)\n",
        "    {\n",
        "        return;\n",
        "    }\n",
        "\n",
        "    int k = l + rand() % (r - l + 1);\n",
        "    swap(a[l], a[k]);\n",
        "    vector<int> m = nueva_particion(a, l, r);\n",
        "    int m1 = m[0];\n",
        "    int m2 = m[1];\n",
        "    randomized_quick_sort(a, l, m1 - 1);\n",
        "    randomized_quick_sort(a, m2 + 1, r);\n",
        "}\n",
        "\n",
        "int main()\n",
        "{\n",
        "    int n;\n",
        "    cin >> n;\n",
        "    vector<int> a(n);\n",
        "    for (size_t i = 0; i < a.size(); ++i)\n",
        "    {\n",
        "        cin >> a[i];\n",
        "    }\n",
        "    randomized_quick_sort(a, 0, a.size() - 1);\n",
        "    for (size_t i = 0; i < a.size(); ++i)\n",
        "    {\n",
        "        cout << a[i] << ' ';\n",
        "    }\n",
        "}"
      ],
      "execution_count": 8,
      "outputs": [
        {
          "output_type": "stream",
          "text": [
            "Overwriting improving_quicksort.cpp\n"
          ],
          "name": "stdout"
        }
      ]
    },
    {
      "cell_type": "code",
      "metadata": {
        "colab": {
          "base_uri": "https://localhost:8080/"
        },
        "id": "xcxf8JEqAt4n",
        "outputId": "b83d0188-b4ac-4964-eea5-2e140128908b"
      },
      "source": [
        "!g++ improving_quicksort.cpp -o improving\n",
        "!./improving"
      ],
      "execution_count": 11,
      "outputs": [
        {
          "output_type": "stream",
          "text": [
            "5 2 3 9 2 2\n",
            "2 2 2 3 9 "
          ],
          "name": "stdout"
        }
      ]
    },
    {
      "cell_type": "markdown",
      "metadata": {
        "id": "5AxdPK69BVhk"
      },
      "source": [
        "![](https://drive.google.com/uc?id=1ina9XYyV3J_lw8GKkfmxBwxwdKRI7cxq)"
      ]
    }
  ]
}