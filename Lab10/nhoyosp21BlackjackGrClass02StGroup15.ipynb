{
  "nbformat": 4,
  "nbformat_minor": 0,
  "metadata": {
    "colab": {
      "name": "dleonmuBlackjack.ipynb",
      "provenance": [],
      "collapsed_sections": [
        "uOO_Dinb0ku4",
        "o7oMZKsr0p1q",
        "iQ6N9H_2Vukx"
      ]
    },
    "kernelspec": {
      "name": "python3",
      "display_name": "Python 3"
    }
  },
  "cells": [
    {
      "cell_type": "markdown",
      "metadata": {
        "id": "TNtd_VIYtQE2"
      },
      "source": [
        "###Monte Carlo – 21 Blackjack"
      ]
    },
    {
      "cell_type": "markdown",
      "metadata": {
        "id": "3HHjE68QLY-6"
      },
      "source": [
        "####1. Estimate the probability of getting a 21, the average number of cards required to complete 21 and plot the experimental distribution of the number of card required to complete 21 drawing cards sequentially from a shuffled deck"
      ]
    },
    {
      "cell_type": "code",
      "metadata": {
        "id": "IRqEVOsGLpJn"
      },
      "source": [
        "import random\n",
        "import matplotlib.pyplot as plt"
      ],
      "execution_count": 3,
      "outputs": []
    },
    {
      "cell_type": "code",
      "metadata": {
        "id": "idxlBr-NMb08"
      },
      "source": [
        "def filldeck(n):\n",
        "  deck = []\n",
        "  for x in range(4):\n",
        "    for i in range(n):\n",
        "      deck.append(i+1)\n",
        "  return deck"
      ],
      "execution_count": 6,
      "outputs": []
    },
    {
      "cell_type": "code",
      "metadata": {
        "id": "-UTPt6u9XFE4"
      },
      "source": [
        "def deckgen(n,t):\n",
        "  deck = []\n",
        "  if t == 0:\n",
        "    for i in range(n):\n",
        "      deck.append(0)\n",
        "  else:\n",
        "    for i in range(n):\n",
        "      deck.append(i+1)\n",
        "  return deck"
      ],
      "execution_count": 7,
      "outputs": []
    },
    {
      "cell_type": "code",
      "metadata": {
        "id": "YazT5oevYCKk"
      },
      "source": [
        "def montecarlo_simulation(n,deck_size):\n",
        "  win= 0\n",
        "  card_values = deckgen(deck_size,1)\n",
        "  card_numbers = deckgen(deck_size,0)\n",
        "  card_average = 0\n",
        "  for i in range(n):\n",
        "    card_number = 0\n",
        "    deck = filldeck(deck_size)\n",
        "    picked_cards = []\n",
        "    while(sum(picked_cards)<21):\n",
        "      card_number +=1\n",
        "      card = random.choice(deck)\n",
        "      picked_cards.append(card)\n",
        "      deck.remove(card)\n",
        "    if(sum(picked_cards)==21):\n",
        "      win+=1\n",
        "      card_numbers[card_number-1] += 1\n",
        "      card_average += card_number\n",
        "  print('Probability of getting a 21: ', win/n)\n",
        "  print('Card numbers ',card_numbers)\n",
        "  print('Average number of cards: ', card_average/win)\n",
        "  plt.bar(card_values,card_numbers);"
      ],
      "execution_count": null,
      "outputs": []
    },
    {
      "cell_type": "markdown",
      "metadata": {
        "id": "ynDvrL_Lsu7W"
      },
      "source": [
        "#####With a Spanish 48-card deck:"
      ]
    },
    {
      "cell_type": "code",
      "metadata": {
        "colab": {
          "base_uri": "https://localhost:8080/",
          "height": 316
        },
        "id": "c4EPgGX9YJEg",
        "outputId": "bac5bbe1-6ba3-4c95-f218-25738a00c6e1"
      },
      "source": [
        "montecarlo_simulation(10000000,12)"
      ],
      "execution_count": null,
      "outputs": [
        {
          "output_type": "stream",
          "text": [
            "Probability of getting a 21:  0.1575143\n",
            "Card numbers  [0, 283353, 626680, 448264, 169887, 40299, 6061, 568, 30, 1, 0, 0]\n",
            "Average number of cards:  3.414472209824759\n"
          ],
          "name": "stdout"
        },
        {
          "output_type": "display_data",
          "data": {
            "image/png": "[encoded data removed]",
            "text/plain": [
              "<Figure size 432x288 with 1 Axes>"
            ]
          },
          "metadata": {
            "tags": [],
            "needs_background": "light"
          }
        }
      ]
    },
    {
      "cell_type": "markdown",
      "metadata": {
        "id": "ZfismtTCs0J1"
      },
      "source": [
        "#####With an American 52-card deck:"
      ]
    },
    {
      "cell_type": "code",
      "metadata": {
        "colab": {
          "base_uri": "https://localhost:8080/",
          "height": 316
        },
        "id": "XsCzo0JyL4e5",
        "outputId": "143e42f1-66c1-435b-a9ab-84621321a076"
      },
      "source": [
        "montecarlo_simulation(10000000,13)"
      ],
      "execution_count": null,
      "outputs": [
        {
          "output_type": "stream",
          "text": [
            "Probability of getting a 21:  0.14459\n",
            "Card numbers  [0, 362404, 587933, 351432, 116202, 24340, 3244, 319, 24, 2, 0, 0, 0]\n",
            "Average number of cards:  3.2138329068400306\n"
          ],
          "name": "stdout"
        },
        {
          "output_type": "display_data",
          "data": {
            "image/png": "[encoded data removed]",
            "text/plain": [
              "<Figure size 432x288 with 1 Axes>"
            ]
          },
          "metadata": {
            "tags": [],
            "needs_background": "light"
          }
        }
      ]
    },
    {
      "cell_type": "markdown",
      "metadata": {
        "id": "tVoWO_HDzP1l"
      },
      "source": [
        "####2. Estimate the probability of getting a 21, the average number of cards required to complete 21 and plot the experimental distribution of the number of card required to complete 21 drawing cards sequentially from a shuffled Spanish 48-card deck with card values [1,2,3,4,5,6,7,10,10,10,1,2,3,4,5,6,7,8,9,10,10,10,1,2,3,4,5,6,7,8,9,10,10,10,1,2,3,4,5,6,7,8,9,10,10,10] and from a shuffled Poker 52-card deck with card values [1,2,3,4,5,6,7,8,9,10,11,12,13,1,2,3,4,5,6,7,8,9,10,10,10,10,1,2,3,4,5,6,7,8,9,10,10,10,10,1,2,3,4,5,6,7,8,9,10,10,10,10] using Montecarlo with 10 millions simulations."
      ]
    },
    {
      "cell_type": "markdown",
      "metadata": {
        "id": "uOO_Dinb0ku4"
      },
      "source": [
        "#####With a Spanish 48-card deck:"
      ]
    },
    {
      "cell_type": "code",
      "metadata": {
        "id": "VRVI2QyAzjZt"
      },
      "source": [
        "def two_spanish_montecarlo_simulation(n):\n",
        "  win= 0\n",
        "  card_values = deckgen(12,1)\n",
        "  card_numbers = deckgen(12,0)\n",
        "  card_average = 0\n",
        "  for i in range(n):\n",
        "    card_number = 0\n",
        "    deck = [1,2,3,4,5,6,7,10,10,10,1,2,3,4,5,6,7,8,9,10,10,10,1,2,3,4,5,6,7,8,9,10,10,10,1,2,3,4,5,6,7,8,9,10,10,10]\n",
        "    picked_cards = []\n",
        "    while(sum(picked_cards)<21):\n",
        "      card_number +=1\n",
        "      card = random.choice(deck)\n",
        "      picked_cards.append(card)\n",
        "      deck.remove(card)\n",
        "    if(sum(picked_cards)==21):\n",
        "      win+=1\n",
        "      card_numbers[card_number-1] += 1\n",
        "      card_average += card_number\n",
        "  print('Probability of getting a 21: ', win/n)\n",
        "  print('Card numbers ',card_numbers)\n",
        "  print('Average number of cards: ', card_average/win)\n",
        "  plt.bar(card_values,card_numbers);"
      ],
      "execution_count": null,
      "outputs": []
    },
    {
      "cell_type": "code",
      "metadata": {
        "colab": {
          "base_uri": "https://localhost:8080/",
          "height": 316
        },
        "id": "EFu4OSa12iPK",
        "outputId": "ba01cef4-a988-4ac8-eeb7-a34a3d44eb3d"
      },
      "source": [
        "two_spanish_montecarlo_simulation(10000000)"
      ],
      "execution_count": null,
      "outputs": [
        {
          "output_type": "stream",
          "text": [
            "Probability of getting a 21:  0.1533311\n",
            "Card numbers  [0, 0, 733787, 521228, 216164, 52928, 8284, 865, 54, 1, 0, 0]\n",
            "Average number of cards:  3.7500970122825703\n"
          ],
          "name": "stdout"
        },
        {
          "output_type": "display_data",
          "data": {
            "image/png": "[encoded data removed]",
            "text/plain": [
              "<Figure size 432x288 with 1 Axes>"
            ]
          },
          "metadata": {
            "tags": [],
            "needs_background": "light"
          }
        }
      ]
    },
    {
      "cell_type": "markdown",
      "metadata": {
        "id": "o7oMZKsr0p1q"
      },
      "source": [
        "#####With an American 52-card deck:"
      ]
    },
    {
      "cell_type": "code",
      "metadata": {
        "id": "jHFLQUlp0sql"
      },
      "source": [
        "def two_american_montecarlo_simulation(n):\n",
        "  win= 0\n",
        "  card_values = deckgen(13,1)\n",
        "  card_numbers = deckgen(13,0)\n",
        "  card_average = 0\n",
        "  for i in range(n):\n",
        "    card_number = 0\n",
        "    deck = [1,2,3,4,5,6,7,8,9,10,11,12,13,1,2,3,4,5,6,7,8,9,10,10,10,10,1,2,3,4,5,6,7,8,9,10,10,10,10,1,2,3,4,5,6,7,8,9,10,10,10,10] \n",
        "    picked_cards = []\n",
        "    while(sum(picked_cards)<21):\n",
        "      card_number +=1\n",
        "      card = random.choice(deck)\n",
        "      picked_cards.append(card)\n",
        "      deck.remove(card)\n",
        "    if(sum(picked_cards)==21):\n",
        "      win+=1\n",
        "      card_numbers[card_number-1] += 1\n",
        "      card_average += card_number\n",
        "  print('Probability of getting a 21: ', win/n)\n",
        "  print('Card numbers ',card_numbers)\n",
        "  print('Average number of cards: ', card_average/win)\n",
        "  plt.bar(card_values,card_numbers);"
      ],
      "execution_count": null,
      "outputs": []
    },
    {
      "cell_type": "code",
      "metadata": {
        "colab": {
          "base_uri": "https://localhost:8080/",
          "height": 316
        },
        "id": "5ttVniSz2nip",
        "outputId": "38717665-1b18-45c6-d9aa-3e1a8806283e"
      },
      "source": [
        "two_american_montecarlo_simulation(10000000)"
      ],
      "execution_count": null,
      "outputs": [
        {
          "output_type": "stream",
          "text": [
            "Probability of getting a 21:  0.1457959\n",
            "Card numbers  [0, 159010, 724294, 407365, 135663, 27709, 3594, 314, 10, 0, 0, 0, 0]\n",
            "Average number of cards:  3.424438547311687\n"
          ],
          "name": "stdout"
        },
        {
          "output_type": "display_data",
          "data": {
            "image/png": "[encoded data removed]",
            "text/plain": [
              "<Figure size 432x288 with 1 Axes>"
            ]
          },
          "metadata": {
            "tags": [],
            "needs_background": "light"
          }
        }
      ]
    },
    {
      "cell_type": "markdown",
      "metadata": {
        "id": "iQ6N9H_2Vukx"
      },
      "source": [
        "####3. Estimate the probability of getting a 21, the average total number of cards required to complete 21 and plot the experimental distribution of the number of cards required to complete 21; assuming that you have in your hand the cards [7,7,5] and the remaining deck has n/2 cards for the regular Spanish 48-card deck and the Poker 52-card decks. You can pick the n/2 cards in the remaining deck in whatever way you choose but with restriction that this has maximum two 7s and three 5, you have to keep the remaining deck fixed through the Montecarlo simulations, use 10 million simulations."
      ]
    },
    {
      "cell_type": "code",
      "metadata": {
        "id": "tefDwVZHaa-V"
      },
      "source": [
        "def fixdeck(deck):\n",
        "  n= len(deck)/2\n",
        "  for i in range(2):\n",
        "    deck.remove(7)\n",
        "  deck.remove(5)\n",
        "  while len(deck) > n:\n",
        "    deck.remove(random.choice(deck))\n",
        "  return deck"
      ],
      "execution_count": null,
      "outputs": []
    },
    {
      "cell_type": "code",
      "metadata": {
        "id": "SM69RPCyV_uf"
      },
      "source": [
        "def fixed_montecarlo_simulation(n,deck_size):\n",
        "  win= 0\n",
        "  card_values = deckgen(deck_size,1)\n",
        "  card_numbers = deckgen(deck_size,0)\n",
        "  card_average = 0\n",
        "  for i in range(n):\n",
        "    card_number = 0\n",
        "    deck = filldeck(deck_size)\n",
        "    deck = fixdeck(deck)\n",
        "    picked_cards = [7,7,5]\n",
        "    while(sum(picked_cards)<21):\n",
        "      card_number +=1\n",
        "      card = random.choice(deck)\n",
        "      picked_cards.append(card)\n",
        "      deck.remove(card)\n",
        "    if(sum(picked_cards)==21):\n",
        "      win+=1\n",
        "      card_numbers[card_number-1] += 1\n",
        "      card_average += card_number\n",
        "  print('Probability of getting a 21: ', win/n)\n",
        "  print('Card numbers ',card_numbers)\n",
        "  print('Average number of cards: ', card_average/win)\n",
        "  plt.bar(card_values,card_numbers);"
      ],
      "execution_count": null,
      "outputs": []
    },
    {
      "cell_type": "markdown",
      "metadata": {
        "id": "pSSnOl-bdYCa"
      },
      "source": [
        "#####With a Spanish 48-card deck:"
      ]
    },
    {
      "cell_type": "code",
      "metadata": {
        "colab": {
          "base_uri": "https://localhost:8080/"
        },
        "id": "OudxKt4ndI9u",
        "outputId": "943d8273-ebac-46bf-e6e0-b3cd713e08da"
      },
      "source": [
        "fixed_montecarlo_simulation(10000000,12)"
      ],
      "execution_count": null,
      "outputs": [
        {
          "output_type": "stream",
          "text": [
            "Probability of getting a 21:  0.0948162\n",
            "Card numbers  [887514, 60648, 0, 0, 0, 0, 0, 0, 0, 0, 0, 0]\n",
            "Average number of cards:  1.0639637530295456\n"
          ],
          "name": "stdout"
        },
        {
          "output_type": "display_data",
          "data": {
            "image/png": "[encoded data removed]",
            "text/plain": [
              "<Figure size 432x288 with 1 Axes>"
            ]
          },
          "metadata": {
            "tags": [],
            "needs_background": "light"
          }
        }
      ]
    },
    {
      "cell_type": "markdown",
      "metadata": {
        "id": "-xIIv8Sndi5R"
      },
      "source": [
        "#####With an American 52-card deck:"
      ]
    },
    {
      "cell_type": "code",
      "metadata": {
        "colab": {
          "base_uri": "https://localhost:8080/"
        },
        "id": "zLbrqTPldqOJ",
        "outputId": "b831b2be-5e64-433d-97b2-a16c0e0774e1"
      },
      "source": [
        "fixed_montecarlo_simulation(10000000,13)"
      ],
      "execution_count": null,
      "outputs": [
        {
          "output_type": "stream",
          "text": [
            "Probability of getting a 21:  0.0867492\n",
            "Card numbers  [815963, 51529, 0, 0, 0, 0, 0, 0, 0, 0, 0, 0, 0]\n",
            "Average number of cards:  1.05939997141184\n"
          ],
          "name": "stdout"
        },
        {
          "output_type": "display_data",
          "data": {
            "image/png": "[encoded data removed]",
            "text/plain": [
              "<Figure size 432x288 with 1 Axes>"
            ]
          },
          "metadata": {
            "tags": [],
            "needs_background": "light"
          }
        }
      ]
    },
    {
      "cell_type": "markdown",
      "metadata": {
        "id": "a6TD0H0IeUfU"
      },
      "source": [
        "####4. Estimate and calculate analytically the probability of getting a 21, the average total number of cards required to complete 21 and the experimental distribution of the number of card required to complete 21; assuming that you have in your hand the cards [7,7,5] and the remaining deck has two possible sets of 8 cards for the regular Spanish 48-card deck and the Poker 52-card decks. The two possible remaining decks are a (hot deck) that contains four 1 cards and four 2 cards a (cold deck) with not 1 or 2 cards, for the estimations use Montecarlo with 10 million simulations."
      ]
    },
    {
      "cell_type": "code",
      "metadata": {
        "id": "P5DzfkDLfGrz"
      },
      "source": [
        "def cold_deck_gen(deck_size):\n",
        "  deck = []\n",
        "  for i in range(8):\n",
        "    deck.append(random.randint(3, deck_size))\n",
        "  return deck"
      ],
      "execution_count": null,
      "outputs": []
    },
    {
      "cell_type": "code",
      "metadata": {
        "id": "f5MSki_aeYrX"
      },
      "source": [
        "def fixed_montecarlo_simulation2(n,deck_size):\n",
        "  win= 0\n",
        "  card_values = deckgen(deck_size,1)\n",
        "  card_numbers = deckgen(deck_size,0)\n",
        "  card_average = 0\n",
        "  for i in range(n):\n",
        "    hot_deck= [1,1,1,1,2,2,2,2]\n",
        "    cold_deck= cold_deck_gen(deck_size)\n",
        "    card_number = 0\n",
        "    random_deck = random.randint(1, 2)\n",
        "    if random_deck == 1:\n",
        "      deck = hot_deck\n",
        "    else:\n",
        "      deck = cold_deck\n",
        "    picked_cards = [7,7,5]\n",
        "    while(sum(picked_cards)<21):\n",
        "      card_number +=1\n",
        "      card = random.choice(deck)\n",
        "      picked_cards.append(card)\n",
        "      deck.remove(card)\n",
        "    if(sum(picked_cards)==21):\n",
        "      win+=1\n",
        "      card_numbers[card_number-1] += 1\n",
        "      card_average += card_number\n",
        "  print('Probability of getting a 21: ', win/n)\n",
        "  print('Card numbers ',card_numbers)\n",
        "  print('Average number of cards: ', card_average/win)\n",
        "  plt.bar(card_values,card_numbers);\n"
      ],
      "execution_count": null,
      "outputs": []
    },
    {
      "cell_type": "markdown",
      "metadata": {
        "id": "tkQTBdHNjEb9"
      },
      "source": [
        "#####With a Spanish 48-card deck"
      ]
    },
    {
      "cell_type": "code",
      "metadata": {
        "colab": {
          "base_uri": "https://localhost:8080/",
          "height": 327
        },
        "id": "Cjf3Kf-TjH_3",
        "outputId": "576c1476-af14-485c-96e8-1973aeede003"
      },
      "source": [
        "fixed_montecarlo_simulation2(10000000,12)"
      ],
      "execution_count": null,
      "outputs": [
        {
          "output_type": "stream",
          "text": [
            "Probability of getting a 21:  0.3571937\n",
            "Card numbers  [2500161, 1071776, 0, 0, 0, 0, 0, 0, 0, 0, 0, 0]\n",
            "Average number of cards:  1.3000545642322359\n"
          ],
          "name": "stdout"
        },
        {
          "output_type": "display_data",
          "data": {
            "image/png": "[encoded data removed]",
            "text/plain": [
              "<Figure size 432x288 with 1 Axes>"
            ]
          },
          "metadata": {
            "tags": [],
            "needs_background": "light"
          }
        }
      ]
    },
    {
      "cell_type": "markdown",
      "metadata": {
        "id": "JVV50HUpi_yS"
      },
      "source": [
        "#####With an American 52-card deck\n"
      ]
    },
    {
      "cell_type": "code",
      "metadata": {
        "colab": {
          "base_uri": "https://localhost:8080/",
          "height": 327
        },
        "id": "IHQRYJ2RjJKj",
        "outputId": "6ef79e8b-e537-44d0-f27c-68744149a741"
      },
      "source": [
        "fixed_montecarlo_simulation2(10000000,13)"
      ],
      "execution_count": null,
      "outputs": [
        {
          "output_type": "stream",
          "text": [
            "Probability of getting a 21:  0.3569125\n",
            "Card numbers  [2500021, 1069104, 0, 0, 0, 0, 0, 0, 0, 0, 0, 0, 0]\n",
            "Average number of cards:  1.2995423247994957\n"
          ],
          "name": "stdout"
        },
        {
          "output_type": "display_data",
          "data": {
            "image/png": "[encoded data removed]",
            "text/plain": [
              "<Figure size 432x288 with 1 Axes>"
            ]
          },
          "metadata": {
            "tags": [],
            "needs_background": "light"
          }
        }
      ]
    },
    {
      "cell_type": "markdown",
      "metadata": {
        "id": "lIrz9ff4i5H-"
      },
      "source": [
        "####5. Estimate the average amount of money (expected value) that Ben wins or losses on a weekend if Ben goes to Vegas every weekend (Friday, Saturday and Sunday), plays every weekend day 10 hours, each game takes 3 mins.\n",
        "\n",
        "####Assume that for each game he gets two possibilities: \n",
        "#####In one he gets in his hand the cards [7,7,5] and a remaining hot deck with 8 cards in which case he bets 1000USD this happens with probability 1/10\n",
        "\n",
        "#####In the other one he gets no cards in his hand a complete shuffled deck in which case he bets $10, this happens with the remaining probability 9/10. Use 10000 Montecarlo simulations to estimated the expected amount of money that Ben wins or losses on a weekend for the Spanish 48-card deck and for a Poker 52-card deck."
      ]
    },
    {
      "cell_type": "code",
      "metadata": {
        "id": "3nrBA8ZjkF1p"
      },
      "source": [
        "#   If ben plays 10 hours straight and each game takes 3 minutes\n",
        "#   it means 600min/3min = 200 games per day, with a total of\n",
        "#   600 games per weekend\n",
        "def ben_montecarlo(n,deck_size):\n",
        "  money = 0\n",
        "  for i in range(n):\n",
        "    for j in range(600):\n",
        "      random_choice = random.randint(1,10)\n",
        "      if random_choice == 1:\n",
        "        deck = [1,1,1,1,2,2,2,2]\n",
        "        picked_cards = [7,7,5]\n",
        "        while(sum(picked_cards)<21):\n",
        "          card = random.choice(deck)\n",
        "          picked_cards.append(card)\n",
        "          deck.remove(card)\n",
        "        if sum(picked_cards) == 21:\n",
        "          money += 1500\n",
        "        else:\n",
        "          money -= 1000\n",
        "      else:\n",
        "        deck = filldeck(deck_size)\n",
        "        picked_cards = []\n",
        "        while(sum(picked_cards)<21):\n",
        "          card = random.choice(deck)\n",
        "          picked_cards.append(card)\n",
        "          deck.remove(card)\n",
        "        if sum(picked_cards) == 21:\n",
        "          money += 15\n",
        "        else:\n",
        "          money -= 10\n",
        "  print('Money: ',money)"
      ],
      "execution_count": 4,
      "outputs": []
    },
    {
      "cell_type": "markdown",
      "metadata": {
        "id": "SlVSH-HWnng3"
      },
      "source": [
        "#####With a Spanish 48-card deck"
      ]
    },
    {
      "cell_type": "code",
      "metadata": {
        "colab": {
          "base_uri": "https://localhost:8080/"
        },
        "id": "DiL79HgPm0qT",
        "outputId": "19986a8d-20f9-48fc-d3ad-d4d429a47e6e"
      },
      "source": [
        "ben_montecarlo(10000,12)"
      ],
      "execution_count": 8,
      "outputs": [
        {
          "output_type": "stream",
          "text": [
            "Money:  439250070\n"
          ],
          "name": "stdout"
        }
      ]
    },
    {
      "cell_type": "markdown",
      "metadata": {
        "id": "4H_p3v3wnuh5"
      },
      "source": [
        "#####With an American 52-card deck\n"
      ]
    },
    {
      "cell_type": "code",
      "metadata": {
        "colab": {
          "base_uri": "https://localhost:8080/"
        },
        "id": "GyfefcJ1nu_s",
        "outputId": "8b06b756-e948-41e7-b8ce-4fdb05208e95"
      },
      "source": [
        "ben_montecarlo(10000,13)"
      ],
      "execution_count": 9,
      "outputs": [
        {
          "output_type": "stream",
          "text": [
            "Money:  438171915\n"
          ],
          "name": "stdout"
        }
      ]
    }
  ]
}