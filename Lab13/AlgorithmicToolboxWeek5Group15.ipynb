{
  "nbformat": 4,
  "nbformat_minor": 0,
  "metadata": {
    "colab": {
      "name": "AlgorithmicToolboxWeek5Group15.ipynb",
      "provenance": []
    },
    "kernelspec": {
      "name": "python3",
      "display_name": "Python 3"
    },
    "language_info": {
      "name": "python"
    }
  },
  "cells": [
    {
      "cell_type": "markdown",
      "metadata": {
        "id": "ChBn9qMXIxxn"
      },
      "source": [
        ""
      ]
    },
    {
      "cell_type": "markdown",
      "metadata": {
        "id": "GVIl44oZI_rc"
      },
      "source": [
        "#Money change again"
      ]
    },
    {
      "cell_type": "code",
      "metadata": {
        "colab": {
          "base_uri": "https://localhost:8080/"
        },
        "id": "p8FDUq0fIwX3",
        "outputId": "837815a4-a511-4acb-cdea-23befa4d1ccc"
      },
      "source": [
        "%%writefile change_dp.cpp\n",
        "#include <bits/stdc++.h>\n",
        "\n",
        "using namespace std;\n",
        "\n",
        "int get_change(int m){\n",
        "    vector<int> dp (m+1, 0);\n",
        "    vector<int> denom {1, 3, 4};\n",
        "    for(int i = 1; i <= m; i++){\n",
        "        int u = 1e9;\n",
        "        for(size_t j = 0; j < 3; j++){\n",
        "            if(i < denom[j])\n",
        "                continue;\n",
        "            u = min(u, dp[i-denom[j]]+1);\n",
        "        }\n",
        "        dp[i] = u;\n",
        "    }\n",
        "    return dp[m];\n",
        "}\n",
        "    \n",
        "\n",
        "int main()\n",
        "{\n",
        "    int m;\n",
        "    cin >> m;\n",
        "    cout << get_change(m) <<\"\\n\";\n",
        "    return 0;\n",
        "}"
      ],
      "execution_count": 1,
      "outputs": [
        {
          "output_type": "stream",
          "text": [
            "Writing change_dp.cpp\n"
          ],
          "name": "stdout"
        }
      ]
    },
    {
      "cell_type": "code",
      "metadata": {
        "colab": {
          "base_uri": "https://localhost:8080/"
        },
        "id": "nyCymQoXJDE1",
        "outputId": "980f1f12-8ca6-40db-f56f-5bfdb1ae9b3f"
      },
      "source": [
        "!g++ change_dp.cpp -o change \n",
        "!./change"
      ],
      "execution_count": 2,
      "outputs": [
        {
          "output_type": "stream",
          "text": [
            "34\n",
            "9\n"
          ],
          "name": "stdout"
        }
      ]
    },
    {
      "cell_type": "markdown",
      "metadata": {
        "id": "5Ll76G9xJsbl"
      },
      "source": [
        "#primitive calculator"
      ]
    },
    {
      "cell_type": "code",
      "metadata": {
        "colab": {
          "base_uri": "https://localhost:8080/"
        },
        "id": "eVN_H4NBJr-d",
        "outputId": "8cbc05bb-618d-47b9-d168-4239edce3e4f"
      },
      "source": [
        "%%writefile primitive_calculator.cpp\n",
        "#include <bits/stdc++.h>\n",
        "\n",
        "using namespace std;\n",
        "\n",
        "void optimal_sequence(int n){\n",
        "    vector<int> dp (n+1, 0);\n",
        "    vector<int> previous (n+1);\n",
        "\n",
        "    for(int i = 2; i <= n; i++){\n",
        "        dp[i] = 1e9;\n",
        "        for(int j = 1; j <= 3; j++){\n",
        "            if(j == 1){\n",
        "                int u = dp[i-1]+1;\n",
        "                if(u < dp[i]){\n",
        "                    dp[i] = u;\n",
        "                    previous[i] = i-1;\n",
        "                }\n",
        "            }\n",
        "            else{\n",
        "                if(i % j)\n",
        "                    continue;\n",
        "                int u = dp[i / j]+1;\n",
        "                if(u < dp[i]){\n",
        "                    dp[i] = u;\n",
        "                    previous[i] = i / j;\n",
        "                }\n",
        "            }\n",
        "        }\n",
        "    }\n",
        "    cout << dp[n] << \"\\n\";\n",
        "    list<int> ans;\n",
        "    for(int i = n; i > 0; i = previous[i]){\n",
        "        ans.push_front(i);\n",
        "    }\n",
        "    for(auto a : ans)\n",
        "        cout << a << \" \";\n",
        "}\n",
        "\n",
        "int main(){\n",
        "    int n;\n",
        "    cin >> n;\n",
        "    optimal_sequence(n);\n",
        "    return 0;\n",
        "}"
      ],
      "execution_count": 4,
      "outputs": [
        {
          "output_type": "stream",
          "text": [
            "Writing primitive_calculator.cpp\n"
          ],
          "name": "stdout"
        }
      ]
    },
    {
      "cell_type": "code",
      "metadata": {
        "colab": {
          "base_uri": "https://localhost:8080/"
        },
        "id": "pwY0hn_Cjtoj",
        "outputId": "2cbdc6d2-6479-4b20-b334-4c54511ce0f1"
      },
      "source": [
        "!g++ primitive_calculator.cpp -o primitive\n",
        "!./primitive"
      ],
      "execution_count": 5,
      "outputs": [
        {
          "output_type": "stream",
          "text": [
            "96234\n",
            "14\n",
            "1 3 9 10 11 33 99 297 891 2673 8019 16038 16039 48117 96234 "
          ],
          "name": "stdout"
        }
      ]
    },
    {
      "cell_type": "markdown",
      "metadata": {
        "id": "QtNKUpjZjfxk"
      },
      "source": [
        "#edit distance"
      ]
    },
    {
      "cell_type": "code",
      "metadata": {
        "colab": {
          "base_uri": "https://localhost:8080/"
        },
        "id": "z-CCb62ujgJr",
        "outputId": "7e382fb3-93df-4452-9265-82235fa7c649"
      },
      "source": [
        "%%writefile edit_distance.cpp\n",
        "#include <bits/stdc++.h>\n",
        "\n",
        "using namespace std;\n",
        "\n",
        "int edit_distance(string a, string b){\n",
        "    int dp[a.length()+1][b.length()+1];\n",
        "    for(size_t i = 0; i <= a.length(); i++){\n",
        "        for(size_t j = 0; j <= b.length(); j++){\n",
        "            if(i == 0)\n",
        "                dp[i][j] = j;\n",
        "            else if(j == 0)\n",
        "                dp[i][j] = i;\n",
        "            else if(a[i-1] == b[j-1])\n",
        "                dp[i][j] = dp[i-1][j-1];\n",
        "            else\n",
        "                dp[i][j] = min(min(dp[i][j-1], dp[i-1][j]), dp[i-1][j-1]) + 1;\n",
        "        }\n",
        "    }\n",
        "    return dp[a.length()][b.length()];\n",
        "}\n",
        "int main(){\n",
        "    string str1;\n",
        "    string str2;\n",
        "    cin >> str1 >> str2;\n",
        "    cout << edit_distance(str1, str2);\n",
        "    return 0;\n",
        "}"
      ],
      "execution_count": 7,
      "outputs": [
        {
          "output_type": "stream",
          "text": [
            "Writing edit_distance.cpp\n"
          ],
          "name": "stdout"
        }
      ]
    },
    {
      "cell_type": "code",
      "metadata": {
        "colab": {
          "base_uri": "https://localhost:8080/"
        },
        "id": "AafOaJP9j9RD",
        "outputId": "53fda76c-1964-41aa-ab53-fca270daf302"
      },
      "source": [
        "!g++ edit_distance.cpp -o edit_distance\n",
        "!./edit_distance"
      ],
      "execution_count": 8,
      "outputs": [
        {
          "output_type": "stream",
          "text": [
            "editing\n",
            "distance\n",
            "5"
          ],
          "name": "stdout"
        }
      ]
    },
    {
      "cell_type": "markdown",
      "metadata": {
        "id": "uwJdXDdilLn0"
      },
      "source": [
        "![](https://drive.google.com/uc?id=132kb2OFlgzQK3qNEQoE4ExI_TyMMnlhT)"
      ]
    }
  ]
}