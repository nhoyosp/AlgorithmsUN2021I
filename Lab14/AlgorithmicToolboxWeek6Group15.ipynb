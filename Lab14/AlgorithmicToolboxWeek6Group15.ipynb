{
  "nbformat": 4,
  "nbformat_minor": 0,
  "metadata": {
    "colab": {
      "name": "AlgorithmicToolboxWeek6Group15.ipynb",
      "provenance": []
    },
    "kernelspec": {
      "name": "python3",
      "display_name": "Python 3"
    },
    "language_info": {
      "name": "python"
    }
  },
  "cells": [
    {
      "cell_type": "markdown",
      "metadata": {
        "id": "pbfiFziWNJjA"
      },
      "source": [
        "# Maximum Amount of Gold"
      ]
    },
    {
      "cell_type": "code",
      "metadata": {
        "colab": {
          "base_uri": "https://localhost:8080/"
        },
        "id": "Bsf0rHvQNHKY",
        "outputId": "fb8b2861-5647-4d43-f7df-de9d27939f23"
      },
      "source": [
        "%%writefile knapsack.cpp\n",
        "#include <bits/stdc++.h>\n",
        "\n",
        "using namespace std;\n",
        "\n",
        "int optimal_weight(int W, vector<int> val, vector<int> wt, int n) {\n",
        "\tvector<vector<int>>  K(n + 1,vector<int>(W + 1));\n",
        "\tfor (int i = 0; i <= n; i++) {\n",
        "\t\tfor (int w = 0; w <= W; w++) {\n",
        "\t\t\tif (i == 0 || w == 0)\n",
        "\t\t\t\tK[i][w] = 0;\n",
        "\t\t\telse if (wt[i - 1] <= w)\n",
        "\t\t\t\tK[i][w] = max(val[i - 1] + K[i - 1][w - wt[i - 1]], K[i - 1][w]);\n",
        "\t\t\telse\n",
        "\t\t\t\tK[i][w] = K[i - 1][w];\n",
        "\t\t}\n",
        "\t}\n",
        "\n",
        "\treturn K[n][W];\n",
        "}\n",
        "\n",
        "int main() {\n",
        "\tint n, Capas;\n",
        "\tcin >> Capas >> n;\n",
        "\n",
        "\tvector<int> Values(n);\n",
        "\tvector<int> Weights(n);\n",
        "\tint aux;\n",
        "\tfor (size_t i = 0; i < n; i++) {\n",
        "\t\tcin >> aux;\n",
        "\t\tValues[i] = Weights[i] = aux;\n",
        "\t}\n",
        "\tcout << optimal_weight(Capas, Values, Weights, n) << \"\\n\";\n",
        "}"
      ],
      "execution_count": 1,
      "outputs": [
        {
          "output_type": "stream",
          "text": [
            "Writing knapsack.cpp\n"
          ],
          "name": "stdout"
        }
      ]
    },
    {
      "cell_type": "code",
      "metadata": {
        "colab": {
          "base_uri": "https://localhost:8080/"
        },
        "id": "PpgcbhD9NpXa",
        "outputId": "8c566aa7-9e8a-43c0-9b4c-6a18d9e6e875"
      },
      "source": [
        "!g++ knapsack.cpp -o knapsack\n",
        "!./knapsack"
      ],
      "execution_count": 2,
      "outputs": [
        {
          "output_type": "stream",
          "text": [
            "10 3\n",
            "1 4 8\n",
            "9\n"
          ],
          "name": "stdout"
        }
      ]
    },
    {
      "cell_type": "markdown",
      "metadata": {
        "id": "jS5waUn1NJ1v"
      },
      "source": [
        "#Maximum value of an arithmetic expression"
      ]
    },
    {
      "cell_type": "code",
      "metadata": {
        "colab": {
          "base_uri": "https://localhost:8080/"
        },
        "id": "80NDDm-FNJPH",
        "outputId": "9dab7737-6665-4073-8a58-4383ba1c8b41"
      },
      "source": [
        "%%writefile parenthesis.cpp\n",
        "#include <bits/stdc++.h>\n",
        "\n",
        "using namespace std;\n",
        "\n",
        "long long oper(long long op1, long long op2, char op) {\n",
        "\tif (op == '*')\n",
        "\t\treturn op1 * op2;\n",
        "\telse if (op == '+')\n",
        "\t\treturn op1 + op2;\n",
        "\telse if (op == '-')\n",
        "\t\treturn op1 - op2;\n",
        "}\n",
        "\n",
        "long long get_maximum_value(const string &in) {\n",
        "\n",
        "\tint NumOfOperands = (in.size() + 1) / 2;\n",
        "\n",
        "\tlong long Mini[NumOfOperands][NumOfOperands];\n",
        "\tlong long Maxi[NumOfOperands][NumOfOperands];\n",
        "\n",
        "\tmemset(Mini, 0, sizeof(Mini)); // initialize to 0\n",
        "\tmemset(Maxi, 0, sizeof(Maxi)); // initialize to 0\n",
        "\tfor (int i = 0; i < NumOfOperands; i++) {\n",
        "        //stoll, String -> long long\n",
        "\t\tMini[i][i] = stoll(in.substr(2 * i, 1));\n",
        "\t\tMaxi[i][i] = stoll(in.substr(2 * i, 1));\n",
        "\t}\n",
        "\n",
        "\tfor (int s = 0; s < NumOfOperands - 1; s++) {\n",
        "\t\tfor (int i = 0; i < NumOfOperands - s - 1; i++) {\n",
        "\t\t\tint j = i + s + 1;\n",
        "\t\t\tlong long MinValue = LLONG_MAX;\n",
        "\t\t\tlong long MaxValue = LLONG_MIN;\n",
        "\n",
        "\t\t\tfor (int k = i; k < j; k++) {\n",
        "\t\t\t\tlong long  a = oper(Mini[i][k], Mini[k + 1][j], in[2 * k + 1]);\n",
        "\t\t\t\tlong long  b = oper(Mini[i][k], Maxi[k + 1][j], in[2 * k + 1]);\n",
        "\t\t\t\tlong long c = oper(Maxi[i][k], Mini[k + 1][j], in[2 * k + 1]);\n",
        "\t\t\t\tlong long d = oper(Maxi[i][k], Maxi[k + 1][j], in[2 * k + 1]);\n",
        "\n",
        "\t\t\t\tMinValue = min(MinValue, min(a, min(b, min(c, d))));\n",
        "\t\t\t\tMaxValue = max(MaxValue, max(a, max(b, max(c, d))));\n",
        "\n",
        "\t\t\t}\n",
        "\t\t\tMini[i][j] = MinValue;\n",
        "\t\t\tMaxi[i][j] = MaxValue;\n",
        "\t\t}\n",
        "\t}\n",
        "\n",
        "\treturn Maxi[0][NumOfOperands - 1];\n",
        "}\n",
        "\n",
        "int main() {\n",
        "\tstring s;\n",
        "\tcin >> s;\n",
        "\n",
        "\tcout << get_maximum_value(s) << \"\\n\";\n",
        "}"
      ],
      "execution_count": 3,
      "outputs": [
        {
          "output_type": "stream",
          "text": [
            "Writing parenthesis.cpp\n"
          ],
          "name": "stdout"
        }
      ]
    },
    {
      "cell_type": "code",
      "metadata": {
        "colab": {
          "base_uri": "https://localhost:8080/"
        },
        "id": "2PotNx-TN1U2",
        "outputId": "2fdad970-060e-4e56-afb3-428cafaf1dc0"
      },
      "source": [
        "!g++ parenthesis.cpp -o parenthesis\n",
        "!./parenthesis"
      ],
      "execution_count": 4,
      "outputs": [
        {
          "output_type": "stream",
          "text": [
            "5-8+7*4-8+9\n",
            "200\n"
          ],
          "name": "stdout"
        }
      ]
    },
    {
      "cell_type": "markdown",
      "metadata": {
        "id": "IlQrt2QMOpFA"
      },
      "source": [
        "![](https://drive.google.com/uc?id=1J9F4COZNK-Ah7z6yX6kxOKES3Ah338Pb)"
      ]
    }
  ]
}