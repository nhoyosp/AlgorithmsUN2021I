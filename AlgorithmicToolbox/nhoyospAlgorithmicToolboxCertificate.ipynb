{
  "nbformat": 4,
  "nbformat_minor": 0,
  "metadata": {
    "colab": {
      "name": "nhoyospAlgorithmicToolboxCertificate.ipynb",
      "provenance": []
    },
    "kernelspec": {
      "name": "python3",
      "display_name": "Python 3"
    },
    "language_info": {
      "name": "python"
    }
  },
  "cells": [
    {
      "cell_type": "markdown",
      "metadata": {
        "id": "AJ5m4u3TR393"
      },
      "source": [
        "# https://www.linkedin.com/in/nicolas-hoyos-pedraza-19316b52/"
      ]
    },
    {
      "cell_type": "markdown",
      "metadata": {
        "id": "x8xyoxxVSdHf"
      },
      "source": [
        "![](https://drive.google.com/uc?id=1pA_Avdhv9VW42xdZiBk62LOdG0cS7hgz)"
      ]
    }
  ]
}