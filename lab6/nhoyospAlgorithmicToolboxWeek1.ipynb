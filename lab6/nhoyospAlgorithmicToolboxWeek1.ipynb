{
  "nbformat": 4,
  "nbformat_minor": 0,
  "metadata": {
    "colab": {
      "name": "nhoyospAlgorithmicToolboxWeek1.ipynb",
      "provenance": [],
      "collapsed_sections": []
    },
    "kernelspec": {
      "name": "python3",
      "display_name": "Python 3"
    },
    "language_info": {
      "name": "python"
    }
  },
  "cells": [
    {
      "cell_type": "markdown",
      "metadata": {
        "id": "N1ok_-56OjB1"
      },
      "source": [
        "# I Solving the Sum of Two Digits Programming Challenge"
      ]
    },
    {
      "cell_type": "markdown",
      "metadata": {
        "id": "MMY7kmDSO0KM"
      },
      "source": [
        "## C++"
      ]
    },
    {
      "cell_type": "code",
      "metadata": {
        "colab": {
          "base_uri": "https://localhost:8080/"
        },
        "id": "2pGGf9BkPNIk",
        "outputId": "57272b19-dd96-44ff-d388-a5f913f5c001"
      },
      "source": [
        "%%writefile sum.cpp\n",
        "#include <iostream>\n",
        "\n",
        "int sum_of_two_digits(int first_digit, int second_digit) {\n",
        "    return first_digit + second_digit;\n",
        "}\n",
        "\n",
        "int main() {\n",
        "    int a = 0;\n",
        "    int b = 0;\n",
        "    std::cin >> a;\n",
        "    std::cin >> b;\n",
        "    std::cout << sum_of_two_digits(a, b);\n",
        "    return 0;\n",
        "}"
      ],
      "execution_count": null,
      "outputs": [
        {
          "output_type": "stream",
          "text": [
            "Writing sum.cpp\n"
          ],
          "name": "stdout"
        }
      ]
    },
    {
      "cell_type": "code",
      "metadata": {
        "colab": {
          "base_uri": "https://localhost:8080/"
        },
        "id": "0G3ZKOYAPXSU",
        "outputId": "1ba1d803-5bf0-430f-e8d9-c9c06fac6908"
      },
      "source": [
        "!g++ sum.cpp -o sum\n",
        "!./sum"
      ],
      "execution_count": null,
      "outputs": [
        {
          "output_type": "stream",
          "text": [
            "2 7\n",
            "9"
          ],
          "name": "stdout"
        }
      ]
    },
    {
      "cell_type": "markdown",
      "metadata": {
        "id": "iNkG2HqfTl9c"
      },
      "source": [
        "### Test input output files"
      ]
    },
    {
      "cell_type": "code",
      "metadata": {
        "colab": {
          "base_uri": "https://localhost:8080/"
        },
        "id": "aTzU2efzMxly",
        "outputId": "22ffa1e4-290a-458f-fd44-928ec1547446"
      },
      "source": [
        "%%writefile input1.txt\n",
        "4 8"
      ],
      "execution_count": null,
      "outputs": [
        {
          "output_type": "stream",
          "text": [
            "Writing input1.txt\n"
          ],
          "name": "stdout"
        }
      ]
    },
    {
      "cell_type": "markdown",
      "metadata": {
        "id": "pdkfsvs-T0Wr"
      },
      "source": [
        ""
      ]
    },
    {
      "cell_type": "code",
      "metadata": {
        "colab": {
          "base_uri": "https://localhost:8080/"
        },
        "id": "zBJ0Gc0NQRet",
        "outputId": "12d44635-36b6-4215-9251-80b6b8046fd1"
      },
      "source": [
        "%%writefile output1.txt\n",
        "12"
      ],
      "execution_count": null,
      "outputs": [
        {
          "output_type": "stream",
          "text": [
            "Writing output1.txt\n"
          ],
          "name": "stdout"
        }
      ]
    },
    {
      "cell_type": "code",
      "metadata": {
        "colab": {
          "base_uri": "https://localhost:8080/"
        },
        "id": "IjEcIx63PJAN",
        "outputId": "a7710339-84f0-4a68-cdde-89fceb61c054"
      },
      "source": [
        "%%writefile input2.txt\n",
        "-5 9"
      ],
      "execution_count": null,
      "outputs": [
        {
          "output_type": "stream",
          "text": [
            "Writing input2.txt\n"
          ],
          "name": "stdout"
        }
      ]
    },
    {
      "cell_type": "code",
      "metadata": {
        "colab": {
          "base_uri": "https://localhost:8080/"
        },
        "id": "Up9gOrxURTmd",
        "outputId": "6faae975-4394-4317-b7e1-6dd1b95a1791"
      },
      "source": [
        "%%writefile output2.txt\n",
        "4"
      ],
      "execution_count": null,
      "outputs": [
        {
          "output_type": "stream",
          "text": [
            "Writing output2.txt\n"
          ],
          "name": "stdout"
        }
      ]
    },
    {
      "cell_type": "code",
      "metadata": {
        "colab": {
          "base_uri": "https://localhost:8080/"
        },
        "id": "PST6G-s-Pwgc",
        "outputId": "b5b14eb1-7e19-4d65-87e3-cb0d8cb3c8f4"
      },
      "source": [
        "!./sum < input1.txt"
      ],
      "execution_count": null,
      "outputs": [
        {
          "output_type": "stream",
          "text": [
            "12"
          ],
          "name": "stdout"
        }
      ]
    },
    {
      "cell_type": "code",
      "metadata": {
        "colab": {
          "base_uri": "https://localhost:8080/"
        },
        "id": "cKxZOjSlRfIN",
        "outputId": "a210566a-dc9b-499d-bd82-e4eb4f787627"
      },
      "source": [
        "!./sum < input2.txt"
      ],
      "execution_count": null,
      "outputs": [
        {
          "output_type": "stream",
          "text": [
            "4"
          ],
          "name": "stdout"
        }
      ]
    },
    {
      "cell_type": "code",
      "metadata": {
        "id": "gMz7YLssPk4k"
      },
      "source": [
        "\n"
      ],
      "execution_count": null,
      "outputs": []
    },
    {
      "cell_type": "markdown",
      "metadata": {
        "id": "Qw2TQWCCUwqk"
      },
      "source": [
        "### Comparing files with grep\n",
        "\n",
        "https://askubuntu.com/questions/546796/comparing-two-text-files"
      ]
    },
    {
      "cell_type": "code",
      "metadata": {
        "id": "WVIaAmMKU4QM"
      },
      "source": [
        "!grep -xvFf output1.txt output1.txt "
      ],
      "execution_count": null,
      "outputs": []
    },
    {
      "cell_type": "code",
      "metadata": {
        "colab": {
          "base_uri": "https://localhost:8080/"
        },
        "id": "MQU8gPPjQuYO",
        "outputId": "1c4b5d43-e353-4732-95a7-4c4ed7196410"
      },
      "source": [
        "!grep -xvFf output1.txt output2.txt "
      ],
      "execution_count": null,
      "outputs": [
        {
          "output_type": "stream",
          "text": [
            "4\n"
          ],
          "name": "stdout"
        }
      ]
    },
    {
      "cell_type": "code",
      "metadata": {
        "colab": {
          "base_uri": "https://localhost:8080/"
        },
        "id": "jYL9OuYBTD_l",
        "outputId": "677266d1-d5b9-40b1-cae5-9585a1350eb4"
      },
      "source": [
        "!grep -xvFf output2.txt output1.txt "
      ],
      "execution_count": null,
      "outputs": [
        {
          "output_type": "stream",
          "text": [
            "12\n"
          ],
          "name": "stdout"
        }
      ]
    },
    {
      "cell_type": "code",
      "metadata": {
        "id": "Jlja0Xm4TX9M"
      },
      "source": [
        "!./sum < input1.txt> ctest1.txt\n",
        "!grep -xvFf output1.txt ctest1.txt"
      ],
      "execution_count": null,
      "outputs": []
    },
    {
      "cell_type": "code",
      "metadata": {
        "id": "g9OIUZA_QLCQ"
      },
      "source": [
        "!./sum < input2.txt > ctest2.txt\n",
        "!grep -xvFf output2.txt ctest2.txt"
      ],
      "execution_count": null,
      "outputs": []
    },
    {
      "cell_type": "markdown",
      "metadata": {
        "id": "3BgOaDjUVJk6"
      },
      "source": [
        "## Python"
      ]
    },
    {
      "cell_type": "code",
      "metadata": {
        "colab": {
          "base_uri": "https://localhost:8080/"
        },
        "id": "DBvl-T0CTN_8",
        "outputId": "3aeeb62e-5a8a-4d32-aee1-e511297e2731"
      },
      "source": [
        "%%writefile sum.py\n",
        "# python3\n",
        "\n",
        "\n",
        "def sum_of_two_digits(first_digit, second_digit):\n",
        "    return first_digit + second_digit\n",
        "\n",
        "if __name__ == '__main__':\n",
        "    a, b = map(int, input().split())\n",
        "    print(sum_of_two_digits(a, b))"
      ],
      "execution_count": null,
      "outputs": [
        {
          "output_type": "stream",
          "text": [
            "Writing sum.py\n"
          ],
          "name": "stdout"
        }
      ]
    },
    {
      "cell_type": "code",
      "metadata": {
        "colab": {
          "base_uri": "https://localhost:8080/"
        },
        "id": "QKoKM11_WGyF",
        "outputId": "f56b34e4-3f00-4d5b-fadc-1bc76da3b770"
      },
      "source": [
        "!python sum.py"
      ],
      "execution_count": null,
      "outputs": [
        {
          "output_type": "stream",
          "text": [
            "8 17\n",
            "25\n"
          ],
          "name": "stdout"
        }
      ]
    },
    {
      "cell_type": "code",
      "metadata": {
        "id": "cocFbPRTWrqt"
      },
      "source": [
        "!python sum.py  < input1.txt> ptest1.txt\n",
        "!grep -xvFf output1.txt ptest1.txt"
      ],
      "execution_count": null,
      "outputs": []
    },
    {
      "cell_type": "code",
      "metadata": {
        "id": "MorKTa-XXASN"
      },
      "source": [
        "!python sum.py  < input2.txt> ptest2.txt\n",
        "!grep -xvFf output2.txt ptest2.txt"
      ],
      "execution_count": null,
      "outputs": []
    },
    {
      "cell_type": "markdown",
      "metadata": {
        "id": "uvP-mOubW_5F"
      },
      "source": [
        "# II Solving The Maximum Pairwise Product Programming Challenge in C++"
      ]
    },
    {
      "cell_type": "markdown",
      "metadata": {
        "id": "C12yoFR6Xonl"
      },
      "source": [
        "## C++"
      ]
    },
    {
      "cell_type": "code",
      "metadata": {
        "colab": {
          "base_uri": "https://localhost:8080/"
        },
        "id": "YL4qJX3tXxdd",
        "outputId": "788ca510-9793-4c6a-a6b1-c83567cbb034"
      },
      "source": [
        "%%writefile max_pairwise_product1.cpp\n",
        "#include <iostream>\n",
        "#include <vector>\n",
        "#include <algorithm>\n",
        "\n",
        "int MaxPairwiseProduct(const std::vector<int>& numbers) {\n",
        "    int max_product = 0;\n",
        "    int n = numbers.size();\n",
        "\n",
        "    for (int first = 0; first < n; ++first) {\n",
        "        for (int second = first + 1; second < n; ++second) {\n",
        "            max_product = std::max(max_product,\n",
        "                numbers[first] * numbers[second]);\n",
        "        }\n",
        "    }\n",
        "\n",
        "    return max_product;\n",
        "}\n",
        "\n",
        "int main() {\n",
        "    int n;\n",
        "    std::cin >> n;\n",
        "    std::vector<int> numbers(n);\n",
        "    for (int i = 0; i < n; ++i) {\n",
        "        std::cin >> numbers[i];\n",
        "    }\n",
        "\n",
        "    std::cout << MaxPairwiseProduct(numbers) << \"\\n\";\n",
        "    return 0;\n",
        "}\n"
      ],
      "execution_count": null,
      "outputs": [
        {
          "output_type": "stream",
          "text": [
            "Writing max_pairwise_product1.cpp\n"
          ],
          "name": "stdout"
        }
      ]
    },
    {
      "cell_type": "code",
      "metadata": {
        "colab": {
          "base_uri": "https://localhost:8080/"
        },
        "id": "KGxaEjvWX__O",
        "outputId": "09d2b312-51cf-49af-bd9b-a34110ea567e"
      },
      "source": [
        "!g++ max_pairwise_product1.cpp -o max_pairwise_product1\n",
        "!./max_pairwise_product1"
      ],
      "execution_count": null,
      "outputs": [
        {
          "output_type": "stream",
          "text": [
            "5 10 100 1000 10000 100000\n",
            "1000000000\n"
          ],
          "name": "stdout"
        }
      ]
    },
    {
      "cell_type": "markdown",
      "metadata": {
        "id": "IeZ3kTjpYmR9"
      },
      "source": [
        "### Test 1: lagest input numbers 200000 200000 in the input"
      ]
    },
    {
      "cell_type": "code",
      "metadata": {
        "colab": {
          "base_uri": "https://localhost:8080/"
        },
        "id": "LQNlZqaqYt7U",
        "outputId": "9a132e4c-5326-40d3-cd70-4c412327d527"
      },
      "source": [
        "%%writefile input1.txt\n",
        "5\n",
        "1 3 200000 9 200000 23"
      ],
      "execution_count": null,
      "outputs": [
        {
          "output_type": "stream",
          "text": [
            "Overwriting input1.txt\n"
          ],
          "name": "stdout"
        }
      ]
    },
    {
      "cell_type": "code",
      "metadata": {
        "colab": {
          "base_uri": "https://localhost:8080/"
        },
        "id": "2Wad2VZUZDxR",
        "outputId": "892aca8c-d2f1-42bd-a8ba-8c6a6758fa3f"
      },
      "source": [
        "!./max_pairwise_product1 < input1.txt"
      ],
      "execution_count": null,
      "outputs": [
        {
          "output_type": "stream",
          "text": [
            "1345294336\n"
          ],
          "name": "stdout"
        }
      ]
    },
    {
      "cell_type": "code",
      "metadata": {
        "colab": {
          "base_uri": "https://localhost:8080/"
        },
        "id": "MPcmsxiQZSfE",
        "outputId": "9ddca3bd-64ab-4212-d723-c4da92910001"
      },
      "source": [
        "%%writefile max_pairwise_product2.cpp\n",
        "#include <iostream>\n",
        "#include <vector>\n",
        "#include <algorithm>\n",
        "\n",
        "long long MaxPairwiseProduct(const std::vector<int>& numbers) {\n",
        "    long long max_product = 0LL;\n",
        "\t  long long aux_product = 0LL;\n",
        "    int n = numbers.size();\n",
        "\n",
        "    for (int first = 0; first < n; ++first) {\n",
        "        for (int second = first + 1; second < n; ++second) {\n",
        "\t\t\t       aux_product =  (long long) numbers[first] * numbers[second];\n",
        "            if ( max_product < aux_product)  {\n",
        "\t\t\t\t        max_product = aux_product;\n",
        "             }\n",
        "        }\n",
        "    }\n",
        "\n",
        "    return max_product;\n",
        "}\n",
        "\n",
        "int main() {\n",
        "    int n;\n",
        "    std::cin >> n;\n",
        "    std::vector<int> numbers(n);\n",
        "    for (int i = 0; i < n; ++i) {\n",
        "        std::cin >> numbers[i];\n",
        "    }\n",
        "\n",
        "    std::cout << MaxPairwiseProduct(numbers) << \"\\n\";\n",
        "    return 0;\n",
        "}\n"
      ],
      "execution_count": null,
      "outputs": [
        {
          "output_type": "stream",
          "text": [
            "Writing max_pairwise_product2.cpp\n"
          ],
          "name": "stdout"
        }
      ]
    },
    {
      "cell_type": "code",
      "metadata": {
        "colab": {
          "base_uri": "https://localhost:8080/"
        },
        "id": "I5pCeOG1Zm7s",
        "outputId": "7707ab90-8607-481c-b3ee-526c7e141ad4"
      },
      "source": [
        "!g++ max_pairwise_product2.cpp -o max_pairwise_product2\n",
        "!./max_pairwise_product2 < input1.txt"
      ],
      "execution_count": null,
      "outputs": [
        {
          "output_type": "stream",
          "text": [
            "40000000000\n"
          ],
          "name": "stdout"
        }
      ]
    },
    {
      "cell_type": "markdown",
      "metadata": {
        "id": "9z9yr5QkeyJF"
      },
      "source": [
        "### Test 2  generate a tests file with the maximun n 200000 numbres and measure time"
      ]
    },
    {
      "cell_type": "code",
      "metadata": {
        "id": "oLiMjbAIfPlX",
        "colab": {
          "base_uri": "https://localhost:8080/"
        },
        "outputId": "a1cf1709-9312-4197-e5e2-10e4603f6290"
      },
      "source": [
        "%%writefile generador.cpp\n",
        "#include <iostream>\n",
        "#include <stdlib.h>\n",
        "#include <vector>\n",
        "using namespace std;\n",
        "int main(){\n",
        "  int k = 0;\n",
        "  cout << 2 << \"\\n\";\n",
        "  cout << 200000 <<\" \"<<200000;\n",
        "  while(k <= 199998){\n",
        "  int tam = rand() % 1000;\n",
        "  k++;\n",
        "  cout << tam<<\"\\n\";\n",
        "  vector<int> arr;\n",
        "  for(int i = 0; i < tam; i++){\n",
        "      arr.push_back(rand()%200000);\n",
        "      k++;\n",
        "  }\n",
        "  for(int i = 0; i < tam;i++ ){\n",
        "      cout << arr[i]<<\" \";\n",
        "  }\n",
        "  cout << \"\\n\";\n",
        "  }\n",
        "  return 0;\n",
        "}"
      ],
      "execution_count": 53,
      "outputs": [
        {
          "output_type": "stream",
          "text": [
            "Overwriting generador.cpp\n"
          ],
          "name": "stdout"
        }
      ]
    },
    {
      "cell_type": "code",
      "metadata": {
        "colab": {
          "base_uri": "https://localhost:8080/"
        },
        "id": "mbR9ANqSr-mD",
        "outputId": "c9c7fbd2-0a88-458a-c666-1b28e48c82f7"
      },
      "source": [
        "%%writefile salidagenerador.txt\n",
        " "
      ],
      "execution_count": 54,
      "outputs": [
        {
          "output_type": "stream",
          "text": [
            "Overwriting salidagenerador.txt\n"
          ],
          "name": "stdout"
        }
      ]
    },
    {
      "cell_type": "code",
      "metadata": {
        "id": "ZPyfSLfwVgp2",
        "colab": {
          "base_uri": "https://localhost:8080/"
        },
        "outputId": "55944236-751e-4f13-a3c6-6cf73eae3e09"
      },
      "source": [
        "%%time\n",
        "!g++ generador.cpp -o generador\n",
        "!./generador > salidagenerador.txt"
      ],
      "execution_count": 56,
      "outputs": [
        {
          "output_type": "stream",
          "text": [
            "CPU times: user 14.8 ms, sys: 14.3 ms, total: 29.1 ms\n",
            "Wall time: 639 ms\n"
          ],
          "name": "stdout"
        }
      ]
    },
    {
      "cell_type": "markdown",
      "metadata": {
        "id": "sc9nOLQrfTm0"
      },
      "source": [
        "### Efficient solution "
      ]
    },
    {
      "cell_type": "markdown",
      "metadata": {
        "id": "aNzWd3rNkyqA"
      },
      "source": [
        "**Efficient solution c++**"
      ]
    },
    {
      "cell_type": "code",
      "metadata": {
        "colab": {
          "base_uri": "https://localhost:8080/"
        },
        "id": "iqJaesUwjqrS",
        "outputId": "1751ca3a-d7bd-4d39-e105-1aa27e341bd9"
      },
      "source": [
        "%%writefile efficient_maxpairwise.cpp\n",
        "#include <iostream>\n",
        "#include <vector>\n",
        "using namespace std;\n",
        "long long MaxPairwiseProductFast(const vector<int>& numbers){\n",
        "    int n = numbers.size();\n",
        "\n",
        "    int max_index1 = -1;\n",
        "    for(int i = 0; i<n ; i++){\n",
        "        if((max_index1 == -1 )|| (numbers[i]> numbers[max_index1])){\n",
        "            max_index1 = i;\n",
        "        }\n",
        "    }\n",
        "    int max_index2 = -1;\n",
        "    for(int j = 0; j<n ; j++){\n",
        "        if((j != max_index1) && ((max_index2 == -1) || (numbers[j] > numbers[max_index2]))){\n",
        "            max_index2 = j;\n",
        "        }\n",
        "    }\n",
        "    return ((long long)(numbers[max_index1])) * numbers[max_index2];\n",
        "}\n",
        "int main(){ \n",
        "    int n; \n",
        "    cin >> n;\n",
        "    vector<int> arr(n);\n",
        "    for(int i = 0; i < n; i++ ){\n",
        "        cin >> arr[i];\n",
        "    }\n",
        "    cout << MaxPairwiseProductFast(arr)<<\"\\n\";\n",
        "    \n",
        "    return 0;\n",
        "}"
      ],
      "execution_count": 51,
      "outputs": [
        {
          "output_type": "stream",
          "text": [
            "Writing efficient_maxpairwise.cpp\n"
          ],
          "name": "stdout"
        }
      ]
    },
    {
      "cell_type": "code",
      "metadata": {
        "colab": {
          "base_uri": "https://localhost:8080/"
        },
        "id": "8UzsvN8mkTiq",
        "outputId": "58a9c4dd-0f77-49fa-e3c9-4d24dd06e472"
      },
      "source": [
        "%%time\n",
        "!g++ efficient_maxpairwise.cpp -o efficient_maxpairwise\n",
        "!./efficient_maxpairwise"
      ],
      "execution_count": 52,
      "outputs": [
        {
          "output_type": "stream",
          "text": [
            "2\n",
            "200000 200000\n",
            "40000000000\n",
            "CPU times: user 105 ms, sys: 19.2 ms, total: 124 ms\n",
            "Wall time: 12.2 s\n"
          ],
          "name": "stdout"
        }
      ]
    },
    {
      "cell_type": "markdown",
      "metadata": {
        "id": "XUg4FPbsRPVu"
      },
      "source": [
        "#Ultra fast Solution"
      ]
    },
    {
      "cell_type": "code",
      "metadata": {
        "colab": {
          "base_uri": "https://localhost:8080/"
        },
        "id": "QkQPJh8vQ2I-",
        "outputId": "0ba27d6f-aba9-42c3-8688-205ff1bb0d26"
      },
      "source": [
        "%%writefile ultrafast.cpp\n",
        "#include <iostream>\n",
        "#include <string>\n",
        "#include <stdlib.h>\n",
        "using namespace std;\n",
        "\n",
        "int main()\n",
        "{\n",
        "  int n,entrada,error;\n",
        "  int maximo;\n",
        "  int premaximo;\n",
        "  cin >> n;\n",
        "    if(n == 2){\n",
        "        cin >> maximo;\n",
        "        cin >> premaximo;\n",
        "        cout << (long long) maximo * premaximo;\n",
        "        return 0;\n",
        "    }\n",
        "    for(int i = 0; i < n ; i++){\n",
        "        cin >> entrada;\n",
        "        if(entrada >= maximo)  \n",
        "        {  \n",
        "            premaximo = maximo;  \n",
        "            maximo = entrada;  \n",
        "        }  \n",
        "        if(entrada >= premaximo && entrada <= maximo)  \n",
        "        {  \n",
        "            premaximo = entrada;  \n",
        "        } \n",
        "    }\n",
        "    cout << (long long)maximo*premaximo;   \n",
        "return 0;\n",
        "}"
      ],
      "execution_count": 1,
      "outputs": [
        {
          "output_type": "stream",
          "text": [
            "Writing ultrafast.cpp\n"
          ],
          "name": "stdout"
        }
      ]
    },
    {
      "cell_type": "code",
      "metadata": {
        "colab": {
          "base_uri": "https://localhost:8080/"
        },
        "id": "nx_m2Xh4RCyB",
        "outputId": "8d2d19d6-91e7-4051-8377-dd6374540b7b"
      },
      "source": [
        "%%time\n",
        "!g++ ultrafast.cpp -o ultrafast\n",
        "!./ultrafast"
      ],
      "execution_count": 2,
      "outputs": [
        {
          "output_type": "stream",
          "text": [
            "2\n",
            "200000 200000\n",
            "40000000000CPU times: user 103 ms, sys: 22.6 ms, total: 125 ms\n",
            "Wall time: 12.4 s\n"
          ],
          "name": "stdout"
        }
      ]
    },
    {
      "cell_type": "markdown",
      "metadata": {
        "id": "bhqiKQG6fjKM"
      },
      "source": [
        "Stress tests "
      ]
    },
    {
      "cell_type": "markdown",
      "metadata": {
        "id": "yBYnp6KjpxU0"
      },
      "source": [
        "Measure with test file of the maximun n 200000 numbres "
      ]
    },
    {
      "cell_type": "code",
      "metadata": {
        "colab": {
          "base_uri": "https://localhost:8080/"
        },
        "id": "u_Un8RnRwCwV",
        "outputId": "4adf109e-95ce-4c29-e9f0-2a39d998eae6"
      },
      "source": [
        "%%writefile stresstests.cpp\n",
        "#include <iostream>\n",
        "#include <vector>\n",
        "using namespace std;\n",
        "long long MaxPairwiseProductFast(const vector<int>& numbers){\n",
        "    int n = numbers.size();\n",
        "\n",
        "    int max_index1 = -1;\n",
        "    for(int i = 0; i<n ; i++){\n",
        "        if((max_index1 == -1 )|| (numbers[i]> numbers[max_index1])){\n",
        "            max_index1 = i;\n",
        "        }\n",
        "    }\n",
        "    int max_index2 = -1;\n",
        "    for(int j = 0; j<n ; j++){\n",
        "        if((j != max_index1) && ((max_index2 == -1) || (numbers[j] > numbers[max_index2]))){\n",
        "            max_index2 = j;\n",
        "        }\n",
        "    }\n",
        "    return ((long long)(numbers[max_index1])) * numbers[max_index2];\n",
        "}\n",
        "long long MaxPairwiseProduct(const std::vector<int>& numbers) {\n",
        "    long long max_product = 0LL;\n",
        "\t  long long aux_product = 0LL;\n",
        "    int n = numbers.size();\n",
        "\n",
        "    for (int first = 0; first < n; ++first) {\n",
        "        for (int second = first + 1; second < n; ++second) {\n",
        "\t\t\t       aux_product =  (long long) numbers[first] * numbers[second];\n",
        "            if ( max_product < aux_product)  {\n",
        "\t\t\t\t        max_product = aux_product;\n",
        "             }\n",
        "        }\n",
        "    }\n",
        "\n",
        "    return max_product;\n",
        "}\n",
        "int main(){ \n",
        "    while(true){\n",
        "    int n; \n",
        "    cin >> n;\n",
        "    vector<int> arr(n);\n",
        "    for(int i = 0; i < n; i++ ){\n",
        "        cin >> arr[i];\n",
        "    }\n",
        "    long long rapida = MaxPairwiseProductFast(arr);\n",
        "    long long lenta = MaxPairwiseProduct(arr);\n",
        "    if(rapida != lenta){\n",
        "    cout << \"Incorrecto\"<<\"\\n\";\n",
        "    return 0;\n",
        "    }\n",
        "    cout<< \"Todo Correcto\" << \"\\n\";\n",
        "    return 0;\n",
        "  }\n",
        "}"
      ],
      "execution_count": 20,
      "outputs": [
        {
          "output_type": "stream",
          "text": [
            "Overwriting stresstests.cpp\n"
          ],
          "name": "stdout"
        }
      ]
    },
    {
      "cell_type": "code",
      "metadata": {
        "colab": {
          "base_uri": "https://localhost:8080/"
        },
        "id": "_dxHR6PNw3f1",
        "outputId": "c4eb7f68-b93f-45d9-b48b-4c800e70467d"
      },
      "source": [
        "%%time\n",
        "!g++ stresstests.cpp -o stress\n",
        "!./stress < salidagenerador.txt"
      ],
      "execution_count": 22,
      "outputs": [
        {
          "output_type": "stream",
          "text": [
            "Todo Correcto\n",
            "CPU times: user 13.3 ms, sys: 13.7 ms, total: 27.1 ms\n",
            "Wall time: 540 ms\n"
          ],
          "name": "stdout"
        }
      ]
    },
    {
      "cell_type": "markdown",
      "metadata": {
        "id": "rydCU4bFfrhG"
      },
      "source": [
        "## Python"
      ]
    },
    {
      "cell_type": "markdown",
      "metadata": {
        "id": "asv3hR-UY5dJ"
      },
      "source": [
        "**Efficient solution python**"
      ]
    },
    {
      "cell_type": "code",
      "metadata": {
        "colab": {
          "base_uri": "https://localhost:8080/"
        },
        "id": "Qov65ARqZEow",
        "outputId": "912c39dc-9163-40e2-ca01-baf81f20949d"
      },
      "source": [
        "def max_pairwise_product_fast(numbers):\n",
        "    n = len(numbers)\n",
        "    max_index1 = -1\n",
        "    for i in range(n):\n",
        "        if max_index1 == -1 or numbers[i] > numbers[max_index1]:\n",
        "            max_index1 = i\n",
        "\n",
        "    max_index2 = -1\n",
        "    for i in range(n):\n",
        "        if i != max_index1 and (max_index2 == -1 or numbers[i] > numbers[max_index2]):\n",
        "            max_index2 = i\n",
        "\n",
        "    return numbers[max_index1] * numbers[max_index2]   \n",
        "\n",
        "if __name__ == '__main__':\n",
        "    input_n = int(input())\n",
        "    input_numbers = [int(x) for x in input().split()]\n",
        "    print(max_pairwise_product_fast(input_numbers))"
      ],
      "execution_count": 23,
      "outputs": [
        {
          "output_type": "stream",
          "text": [
            "5\n",
            "10000 200000 4040 410020 5500\n",
            "82004000000\n"
          ],
          "name": "stdout"
        }
      ]
    },
    {
      "cell_type": "code",
      "metadata": {
        "colab": {
          "base_uri": "https://localhost:8080/"
        },
        "id": "q5P6OAEHhUNb",
        "outputId": "a7c49b6e-0c36-4ca5-e56a-4e721516ee0b"
      },
      "source": [
        "%%time\n",
        "max_pairwise_product_fast([100000, 1000000 ,1000000000, 100000000, 11000001])"
      ],
      "execution_count": 24,
      "outputs": [
        {
          "output_type": "stream",
          "text": [
            "CPU times: user 10 µs, sys: 2 µs, total: 12 µs\n",
            "Wall time: 16.5 µs\n"
          ],
          "name": "stdout"
        },
        {
          "output_type": "execute_result",
          "data": {
            "text/plain": [
              "100000000000000000"
            ]
          },
          "metadata": {
            "tags": []
          },
          "execution_count": 24
        }
      ]
    },
    {
      "cell_type": "code",
      "metadata": {
        "colab": {
          "base_uri": "https://localhost:8080/"
        },
        "id": "Sswkc-ycQQpr",
        "outputId": "e5635936-f8b8-4802-d930-1a929ce4fe58"
      },
      "source": [
        "%%time\n",
        "!g++ stresstests.cpp -o stress\n",
        "!./stress < salidagenerador.txt"
      ],
      "execution_count": 25,
      "outputs": [
        {
          "output_type": "stream",
          "text": [
            "Todo Correcto\n",
            "CPU times: user 18.8 ms, sys: 14.1 ms, total: 32.9 ms\n",
            "Wall time: 643 ms\n"
          ],
          "name": "stdout"
        }
      ]
    },
    {
      "cell_type": "markdown",
      "metadata": {
        "id": "cqK01OLxCAv0"
      },
      "source": [
        "**Python Stress-test**"
      ]
    },
    {
      "cell_type": "code",
      "metadata": {
        "colab": {
          "base_uri": "https://localhost:8080/"
        },
        "id": "XEFVIMyBxSJ9",
        "outputId": "b4823a39-8cde-4521-b182-4c70e6a49d84"
      },
      "source": [
        "%%writefile stress_python.py\n",
        "#python 3\n",
        "\n",
        "def max_pairwise_product(numbers):\n",
        "    n = len(numbers)\n",
        "    max_product = 0\n",
        "    for first in range(n):\n",
        "        for second in range(first + 1, n):\n",
        "            max_product = max(max_product,\n",
        "                numbers[first] * numbers[second])\n",
        "\n",
        "    return max_product\n",
        "\n",
        "def max_pairwise_product_fast(numbers):\n",
        "    n = len(numbers)\n",
        "    max_index1 = -1\n",
        "    for i in range(n):\n",
        "        if max_index1 == -1 or numbers[i] > numbers[max_index1]:\n",
        "            max_index1 = i\n",
        "\n",
        "    max_index2 = -1\n",
        "    for i in range(n):\n",
        "        if i != max_index1 and (max_index2 == -1 or numbers[i] > numbers[max_index2]):\n",
        "            max_index2 = i\n",
        "    if(max_index1==-1 and max_index2 == -1):\n",
        "      raise SystemExit('Finalizado')\n",
        "    return numbers[max_index1] * numbers[max_index2]   \n",
        "def estresar():\n",
        "    contador = 0;\n",
        "    limite = len(open(\"/content/salidagenerador.txt\").readlines(  ))\n",
        "    while True:\n",
        "      input_n = int(input())\n",
        "      input_numbers = [int(x) for x in input().split()]\n",
        "      lenta = max_pairwise_product(input_numbers)\n",
        "      rapida = max_pairwise_product_fast(input_numbers)\n",
        "      contador = contador + 1\n",
        "      if((contador <= limite and rapida == lenta) != True):\n",
        "        print(\"Mal\")\n",
        "        return \n",
        "estresar()"
      ],
      "execution_count": 48,
      "outputs": [
        {
          "output_type": "stream",
          "text": [
            "Overwriting stress_python.py\n"
          ],
          "name": "stdout"
        }
      ]
    },
    {
      "cell_type": "code",
      "metadata": {
        "colab": {
          "base_uri": "https://localhost:8080/"
        },
        "id": "fC3fZcVTxsK9",
        "outputId": "dda4a27a-2ba7-4c79-d1b7-5ca2fce250fd"
      },
      "source": [
        "%%time\n",
        "!python stress_python.py < salidagenerador.txt"
      ],
      "execution_count": 49,
      "outputs": [
        {
          "output_type": "stream",
          "text": [
            "Finalizado\n",
            "CPU times: user 98.7 ms, sys: 12.8 ms, total: 112 ms\n",
            "Wall time: 12.5 s\n"
          ],
          "name": "stdout"
        }
      ]
    },
    {
      "cell_type": "markdown",
      "metadata": {
        "id": "s7L2KOSCjp4M"
      },
      "source": [
        "---\n",
        "*El error en la ultima parte se debe a que el computador se queda sin memoria*"
      ]
    },
    {
      "cell_type": "markdown",
      "metadata": {
        "id": "PTatH92OkTn1"
      },
      "source": [
        "#Evidencias coursera"
      ]
    },
    {
      "cell_type": "markdown",
      "metadata": {
        "id": "Q2WFZhXBmceF"
      },
      "source": [
        "## Suma de dos dígitos"
      ]
    },
    {
      "cell_type": "markdown",
      "metadata": {
        "id": "ffRxhUb8mDk3"
      },
      "source": [
        "![](https://drive.google.com/uc?id=1jD8ZedSpbO_ar5x-GnM_fJReeUvfvrg3)"
      ]
    },
    {
      "cell_type": "markdown",
      "metadata": {
        "id": "AJ3BM_OJmZkj"
      },
      "source": [
        "## Maximum Pairwise Product"
      ]
    },
    {
      "cell_type": "markdown",
      "metadata": {
        "id": "fExDowMmmtKV"
      },
      "source": [
        "![](https://drive.google.com/uc?id=1LSIlLyYbhdfQvVBDsW_wsXdlS-N59MgW)"
      ]
    }
  ]
}