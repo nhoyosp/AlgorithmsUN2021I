{
  "nbformat": 4,
  "nbformat_minor": 0,
  "metadata": {
    "colab": {
      "name": "ultimo_intento.ipynb",
      "provenance": [],
      "collapsed_sections": [],
      "toc_visible": true
    },
    "kernelspec": {
      "display_name": "Python 3",
      "name": "python3"
    },
    "language_info": {
      "name": "python"
    }
  },
  "cells": [
    {
      "cell_type": "markdown",
      "metadata": {
        "id": "N1ok_-56OjB1"
      },
      "source": [
        "# I Solving the Sum of Two Digits Programming Challenge"
      ]
    },
    {
      "cell_type": "markdown",
      "metadata": {
        "id": "MMY7kmDSO0KM"
      },
      "source": [
        "## C++"
      ]
    },
    {
      "cell_type": "code",
      "metadata": {
        "colab": {
          "base_uri": "https://localhost:8080/"
        },
        "id": "2pGGf9BkPNIk",
        "outputId": "ae225050-5943-4163-81d1-e21eec71f42c"
      },
      "source": [
        "%%writefile APlusB.cpp\n",
        "#include <iostream>\n",
        "\n",
        "int sum_of_two_digits(int first_digit, int second_digit) {\n",
        "    return first_digit + second_digit;\n",
        "}\n",
        "\n",
        "int main() {\n",
        "    int a = 0;\n",
        "    int b = 0;\n",
        "    std::cin >> a;\n",
        "    std::cin >> b;\n",
        "    std::cout << sum_of_two_digits(a, b);\n",
        "    return 0;\n",
        "}"
      ],
      "execution_count": null,
      "outputs": [
        {
          "output_type": "stream",
          "text": [
            "Writing APlusB.cpp\n"
          ],
          "name": "stdout"
        }
      ]
    },
    {
      "cell_type": "code",
      "metadata": {
        "colab": {
          "base_uri": "https://localhost:8080/"
        },
        "id": "0G3ZKOYAPXSU",
        "outputId": "db966432-19e6-4a11-d919-daa71a6ef893"
      },
      "source": [
        "!g++ APlusB.cpp -o APlusB\n",
        "!./APlusB"
      ],
      "execution_count": null,
      "outputs": [
        {
          "output_type": "stream",
          "text": [
            "4\n",
            "5\n",
            "9"
          ],
          "name": "stdout"
        }
      ]
    },
    {
      "cell_type": "markdown",
      "metadata": {
        "id": "iNkG2HqfTl9c"
      },
      "source": [
        "### Test input output files"
      ]
    },
    {
      "cell_type": "code",
      "metadata": {
        "colab": {
          "base_uri": "https://localhost:8080/"
        },
        "id": "aTzU2efzMxly",
        "outputId": "c8140b20-6a22-424f-8c37-4995304a613a"
      },
      "source": [
        "%%writefile input1.txt\n",
        "4 8"
      ],
      "execution_count": null,
      "outputs": [
        {
          "output_type": "stream",
          "text": [
            "Overwriting input1.txt\n"
          ],
          "name": "stdout"
        }
      ]
    },
    {
      "cell_type": "markdown",
      "metadata": {
        "id": "pdkfsvs-T0Wr"
      },
      "source": [
        ""
      ]
    },
    {
      "cell_type": "code",
      "metadata": {
        "colab": {
          "base_uri": "https://localhost:8080/"
        },
        "id": "zBJ0Gc0NQRet",
        "outputId": "3051d7c8-03fc-42a8-d493-9b3f8fb02ef1"
      },
      "source": [
        "%%writefile output1.txt\n",
        "12"
      ],
      "execution_count": null,
      "outputs": [
        {
          "output_type": "stream",
          "text": [
            "Writing output1.txt\n"
          ],
          "name": "stdout"
        }
      ]
    },
    {
      "cell_type": "code",
      "metadata": {
        "colab": {
          "base_uri": "https://localhost:8080/"
        },
        "id": "IjEcIx63PJAN",
        "outputId": "8a8a549f-2a57-45ba-b499-a475bd386121"
      },
      "source": [
        "%%writefile input2.txt\n",
        "-5 9"
      ],
      "execution_count": null,
      "outputs": [
        {
          "output_type": "stream",
          "text": [
            "Overwriting input2.txt\n"
          ],
          "name": "stdout"
        }
      ]
    },
    {
      "cell_type": "code",
      "metadata": {
        "colab": {
          "base_uri": "https://localhost:8080/"
        },
        "id": "Up9gOrxURTmd",
        "outputId": "2a4f610c-6d2d-44cd-982b-b3e03af65502"
      },
      "source": [
        "%%writefile output2.txt\n",
        "4"
      ],
      "execution_count": null,
      "outputs": [
        {
          "output_type": "stream",
          "text": [
            "Writing output2.txt\n"
          ],
          "name": "stdout"
        }
      ]
    },
    {
      "cell_type": "code",
      "metadata": {
        "colab": {
          "base_uri": "https://localhost:8080/"
        },
        "id": "PST6G-s-Pwgc",
        "outputId": "9680fdb4-d9f8-4d01-a23e-f88db8065bd8"
      },
      "source": [
        "!./APlusB < input1.txt"
      ],
      "execution_count": null,
      "outputs": [
        {
          "output_type": "stream",
          "text": [
            "12"
          ],
          "name": "stdout"
        }
      ]
    },
    {
      "cell_type": "code",
      "metadata": {
        "colab": {
          "base_uri": "https://localhost:8080/"
        },
        "id": "cKxZOjSlRfIN",
        "outputId": "0344c05d-d790-48f7-9019-a8da056166cc"
      },
      "source": [
        "!./APlusB < input2.txt"
      ],
      "execution_count": null,
      "outputs": [
        {
          "output_type": "stream",
          "text": [
            "4"
          ],
          "name": "stdout"
        }
      ]
    },
    {
      "cell_type": "markdown",
      "metadata": {
        "id": "Qw2TQWCCUwqk"
      },
      "source": [
        "### Comparing files with grep\n",
        "\n",
        "https://askubuntu.com/questions/546796/comparing-two-text-files"
      ]
    },
    {
      "cell_type": "code",
      "metadata": {
        "id": "WVIaAmMKU4QM"
      },
      "source": [
        "!grep -xvFf output1.txt output1.txt "
      ],
      "execution_count": null,
      "outputs": []
    },
    {
      "cell_type": "code",
      "metadata": {
        "colab": {
          "base_uri": "https://localhost:8080/"
        },
        "id": "MQU8gPPjQuYO",
        "outputId": "98580f69-7ed0-4cae-f095-5979d8a2a13f"
      },
      "source": [
        "!grep -xvFf output1.txt output2.txt "
      ],
      "execution_count": null,
      "outputs": [
        {
          "output_type": "stream",
          "text": [
            "4\n"
          ],
          "name": "stdout"
        }
      ]
    },
    {
      "cell_type": "code",
      "metadata": {
        "colab": {
          "base_uri": "https://localhost:8080/"
        },
        "id": "jYL9OuYBTD_l",
        "outputId": "e2beb06b-d729-4a26-adb4-3725dc913c62"
      },
      "source": [
        "!grep -xvFf output2.txt output1.txt "
      ],
      "execution_count": null,
      "outputs": [
        {
          "output_type": "stream",
          "text": [
            "12\n"
          ],
          "name": "stdout"
        }
      ]
    },
    {
      "cell_type": "code",
      "metadata": {
        "id": "Jlja0Xm4TX9M"
      },
      "source": [
        "!./APlusB < input1.txt> ctest1.txt\n",
        "!grep -xvFf output1.txt ctest1.txt"
      ],
      "execution_count": null,
      "outputs": []
    },
    {
      "cell_type": "code",
      "metadata": {
        "id": "g9OIUZA_QLCQ"
      },
      "source": [
        "!./APlusB < input2.txt > ctest2.txt\n",
        "!grep -xvFf output2.txt ctest2.txt"
      ],
      "execution_count": null,
      "outputs": []
    },
    {
      "cell_type": "markdown",
      "metadata": {
        "id": "3BgOaDjUVJk6"
      },
      "source": [
        "## Python"
      ]
    },
    {
      "cell_type": "code",
      "metadata": {
        "colab": {
          "base_uri": "https://localhost:8080/"
        },
        "id": "DBvl-T0CTN_8",
        "outputId": "0009b2d9-881d-4bea-e9d7-488d8f8db838"
      },
      "source": [
        "%%writefile sum.py\n",
        "# python3\n",
        "\n",
        "def sum_of_two_digits(first_digit, second_digit):\n",
        "    return first_digit + second_digit\n",
        "\n",
        "if __name__ == '__main__':\n",
        "    a, b = map(int, input().split())\n",
        "    print(sum_of_two_digits(a, b))"
      ],
      "execution_count": null,
      "outputs": [
        {
          "output_type": "stream",
          "text": [
            "Writing sum.py\n"
          ],
          "name": "stdout"
        }
      ]
    },
    {
      "cell_type": "code",
      "metadata": {
        "colab": {
          "base_uri": "https://localhost:8080/"
        },
        "id": "QKoKM11_WGyF",
        "outputId": "40024da4-6949-428d-9de0-d9aeb659a4cb"
      },
      "source": [
        "!python sum.py"
      ],
      "execution_count": null,
      "outputs": [
        {
          "output_type": "stream",
          "text": [
            "4\n",
            "Traceback (most recent call last):\n",
            "  File \"sum.py\", line 7, in <module>\n",
            "    a, b = map(int, input().split())\n",
            "ValueError: not enough values to unpack (expected 2, got 1)\n"
          ],
          "name": "stdout"
        }
      ]
    },
    {
      "cell_type": "code",
      "metadata": {
        "id": "cocFbPRTWrqt"
      },
      "source": [
        "!python sum.py  < input1.txt> ptest1.txt\n",
        "!grep -xvFf output1.txt ptest1.txt"
      ],
      "execution_count": null,
      "outputs": []
    },
    {
      "cell_type": "code",
      "metadata": {
        "id": "MorKTa-XXASN"
      },
      "source": [
        "!python sum.py  < input2.txt> ptest2.txt\n",
        "!grep -xvFf output2.txt ptest2.txt"
      ],
      "execution_count": null,
      "outputs": []
    },
    {
      "cell_type": "markdown",
      "metadata": {
        "id": "uvP-mOubW_5F"
      },
      "source": [
        "# II Solving The Maximum Pairwise Product Programming Challenge in C++"
      ]
    },
    {
      "cell_type": "markdown",
      "metadata": {
        "id": "C12yoFR6Xonl"
      },
      "source": [
        "## C++"
      ]
    },
    {
      "cell_type": "code",
      "metadata": {
        "colab": {
          "base_uri": "https://localhost:8080/"
        },
        "id": "YL4qJX3tXxdd",
        "outputId": "0cf204c9-e9b7-4206-e235-544d5045777d"
      },
      "source": [
        "%%writefile max_pairwise_product.cpp\n",
        "#include <iostream>\n",
        "#include <vector>\n",
        "#include <algorithm>\n",
        "\n",
        "int MaxPairwiseProduct(const std::vector<int>& numbers) {\n",
        "    int max_product = 0;\n",
        "    int n = numbers.size();\n",
        "\n",
        "    for (int first = 0; first < n; ++first) {\n",
        "        for (int second = first + 1; second < n; ++second) {\n",
        "            max_product = std::max(max_product,\n",
        "                numbers[first] * numbers[second]);\n",
        "        }\n",
        "    }\n",
        "\n",
        "    return max_product;\n",
        "}\n",
        "\n",
        "int main() {\n",
        "    int n;\n",
        "    std::cin >> n;\n",
        "    std::vector<int> numbers(n);\n",
        "    for (int i = 0; i < n; ++i) {\n",
        "        std::cin >> numbers[i];\n",
        "    }\n",
        "\n",
        "    std::cout << MaxPairwiseProduct(numbers) << \"\\n\";\n",
        "    return 0;\n",
        "}\n"
      ],
      "execution_count": null,
      "outputs": [
        {
          "output_type": "stream",
          "text": [
            "Overwriting max_pairwise_product.cpp\n"
          ],
          "name": "stdout"
        }
      ]
    },
    {
      "cell_type": "code",
      "metadata": {
        "colab": {
          "base_uri": "https://localhost:8080/"
        },
        "id": "KGxaEjvWX__O",
        "outputId": "c59ccdfa-fbe2-4d23-d498-704feb0d4d71"
      },
      "source": [
        "!g++ max_pairwise_product.cpp -o max_pairwise_product\n",
        "!./max_pairwise_product"
      ],
      "execution_count": null,
      "outputs": [
        {
          "output_type": "stream",
          "text": [
            " 5 10 100 1000 10000 100000\n",
            "1000000000\n"
          ],
          "name": "stdout"
        }
      ]
    },
    {
      "cell_type": "markdown",
      "metadata": {
        "id": "e7KhxHGNS3i0"
      },
      "source": [
        "### Test 1: Small numbers"
      ]
    },
    {
      "cell_type": "code",
      "metadata": {
        "colab": {
          "base_uri": "https://localhost:8080/"
        },
        "id": "e1mmTzBgShT-",
        "outputId": "3eb82b03-664d-48c8-85d7-c64010f15f7a"
      },
      "source": [
        "%%writefile input1.txt\n",
        "10\n",
        "1 2 3 4 5 6 7 8 9 10"
      ],
      "execution_count": 2,
      "outputs": [
        {
          "output_type": "stream",
          "text": [
            "Writing input1.txt\n"
          ],
          "name": "stdout"
        }
      ]
    },
    {
      "cell_type": "code",
      "metadata": {
        "colab": {
          "base_uri": "https://localhost:8080/"
        },
        "id": "vy_uI0x7TCId",
        "outputId": "3453f6f5-afc3-4056-b264-a56ae523cbd7"
      },
      "source": [
        "!./max_pairwise_product < input1.txt"
      ],
      "execution_count": null,
      "outputs": [
        {
          "output_type": "stream",
          "text": [
            "90\n"
          ],
          "name": "stdout"
        }
      ]
    },
    {
      "cell_type": "markdown",
      "metadata": {
        "id": "IeZ3kTjpYmR9"
      },
      "source": [
        "### Test 2: largest input numbers 200000 200000 in the input"
      ]
    },
    {
      "cell_type": "code",
      "metadata": {
        "colab": {
          "base_uri": "https://localhost:8080/"
        },
        "id": "LQNlZqaqYt7U",
        "outputId": "69d84328-c4fd-43ee-d67f-c881821892ea"
      },
      "source": [
        "%%writefile input2.txt\n",
        "6\n",
        "1 3 200000 9 200000 23"
      ],
      "execution_count": 3,
      "outputs": [
        {
          "output_type": "stream",
          "text": [
            "Writing input2.txt\n"
          ],
          "name": "stdout"
        }
      ]
    },
    {
      "cell_type": "code",
      "metadata": {
        "colab": {
          "base_uri": "https://localhost:8080/"
        },
        "id": "2Wad2VZUZDxR",
        "outputId": "d4dffa18-76c9-4e91-d663-2815dcc8c36d"
      },
      "source": [
        "!./max_pairwise_product < input2.txt"
      ],
      "execution_count": null,
      "outputs": [
        {
          "output_type": "stream",
          "text": [
            "1345294336\n"
          ],
          "name": "stdout"
        }
      ]
    },
    {
      "cell_type": "markdown",
      "metadata": {
        "id": "H2SC0Qt5HCzz"
      },
      "source": [
        "Changing the variables to long long"
      ]
    },
    {
      "cell_type": "code",
      "metadata": {
        "colab": {
          "base_uri": "https://localhost:8080/"
        },
        "id": "MPcmsxiQZSfE",
        "outputId": "ad5042a0-a4ec-4d84-c922-f66637eaa2eb"
      },
      "source": [
        "%%writefile max_pairwise_product_long.cpp\n",
        "#include <iostream>\n",
        "#include <vector>\n",
        "#include <algorithm>\n",
        "\n",
        "long long MaxPairwiseProduct(const std::vector<int>& numbers) {\n",
        "    long long max_product = 0LL;\n",
        "\t  long long aux_product = 0LL;\n",
        "    int n = numbers.size();\n",
        "\n",
        "    for (int first = 0; first < n; ++first) {\n",
        "        for (int second = first + 1; second < n; ++second) {\n",
        "\t\t\t       aux_product =  (long long) numbers[first] * numbers[second];\n",
        "            if ( max_product < aux_product)  {\n",
        "\t\t\t\t        max_product = aux_product;\n",
        "             }\n",
        "        }\n",
        "    }\n",
        "\n",
        "    return max_product;\n",
        "}\n",
        "\n",
        "int main() {\n",
        "    int n;\n",
        "    std::cin >> n;\n",
        "    std::vector<int> numbers(n);\n",
        "    for (int i = 0; i < n; ++i) {\n",
        "        std::cin >> numbers[i];\n",
        "    }\n",
        "\n",
        "    std::cout << MaxPairwiseProduct(numbers) << \"\\n\";\n",
        "    return 0;\n",
        "}\n"
      ],
      "execution_count": null,
      "outputs": [
        {
          "output_type": "stream",
          "text": [
            "Overwriting max_pairwise_product_long.cpp\n"
          ],
          "name": "stdout"
        }
      ]
    },
    {
      "cell_type": "code",
      "metadata": {
        "colab": {
          "base_uri": "https://localhost:8080/"
        },
        "id": "I5pCeOG1Zm7s",
        "outputId": "237f9017-0909-4577-8d07-46d93fa5f18a"
      },
      "source": [
        "!g++ max_pairwise_product_long.cpp -o max_pairwise_product_long\n",
        "!./max_pairwise_product_long < input1.txt\n",
        "!./max_pairwise_product_long < input2.txt"
      ],
      "execution_count": null,
      "outputs": [
        {
          "output_type": "stream",
          "text": [
            "90\n",
            "40000000000\n"
          ],
          "name": "stdout"
        }
      ]
    },
    {
      "cell_type": "markdown",
      "metadata": {
        "id": "XPVHkHxH6_7s"
      },
      "source": [
        "### Test 3  stress tests 20  times  random n in [2, 20] "
      ]
    },
    {
      "cell_type": "code",
      "metadata": {
        "colab": {
          "base_uri": "https://localhost:8080/"
        },
        "id": "ziEaDpffvVKo",
        "outputId": "85d3b03e-6aab-4fb0-ea2a-2faeb9c8d1e8"
      },
      "source": [
        "%%writefile generador.cpp\n",
        "\n",
        "#include <iostream>\n",
        "#include <fstream>\n",
        "#include <cstdlib>\n",
        "#include <string>\n",
        "\n",
        "using namespace std;\n",
        "\n",
        "int main() {\n",
        "  int n;\n",
        "  int aleatorio;\n",
        "  srand((unsigned) time(0));\n",
        "  ofstream MyFile(\"stress.txt\");\n",
        "  n = 2 + ( rand() % ( 20 - 2 + 1 ) );\n",
        "  MyFile << n << \"\\n\";\n",
        "  for(int i = 0; i < n; i++){\n",
        "    aleatorio = rand() % 200000;\n",
        "    MyFile << aleatorio << \"  \";\n",
        "  }\n",
        "  cout << \"\\n\";\n",
        "  // Close the file\n",
        "  MyFile.close();\n",
        "  return 0;\n",
        "}"
      ],
      "execution_count": null,
      "outputs": [
        {
          "output_type": "stream",
          "text": [
            "Overwriting generador.cpp\n"
          ],
          "name": "stdout"
        }
      ]
    },
    {
      "cell_type": "code",
      "metadata": {
        "colab": {
          "base_uri": "https://localhost:8080/"
        },
        "id": "WANqYdekqFK8",
        "outputId": "a825941e-2958-47f9-bd0f-34dec79f1cab"
      },
      "source": [
        "!g++ generador.cpp -o generador\n",
        "import time\n",
        "for i in range (20):\n",
        "  !./generador\n",
        "  time.sleep(1)\n",
        "  !./max_pairwise_product_long < stress.txt"
      ],
      "execution_count": null,
      "outputs": [
        {
          "output_type": "stream",
          "text": [
            "\n",
            "19457416623\n",
            "\n",
            "2903101131\n",
            "\n",
            "10253512395\n",
            "\n",
            "31378506840\n",
            "\n",
            "12843876120\n",
            "\n",
            "30826978298\n",
            "\n",
            "9980288835\n",
            "\n",
            "31754638200\n",
            "\n",
            "30243672344\n",
            "\n",
            "22036579370\n",
            "\n",
            "13850137920\n",
            "\n",
            "33617692508\n",
            "\n",
            "25327339452\n",
            "\n",
            "9482085045\n",
            "\n",
            "32673772012\n",
            "\n",
            "16714298700\n",
            "\n",
            "22637633551\n",
            "\n",
            "8461472162\n",
            "\n",
            "9002777668\n",
            "\n",
            "32685906045\n"
          ],
          "name": "stdout"
        }
      ]
    },
    {
      "cell_type": "markdown",
      "metadata": {
        "id": "9z9yr5QkeyJF"
      },
      "source": [
        "### Test 4  time test  measure the execution time running with the the largest worst case file (200000 increasing numbers, 200000 and 200000 the end) "
      ]
    },
    {
      "cell_type": "code",
      "metadata": {
        "colab": {
          "base_uri": "https://localhost:8080/"
        },
        "id": "oLiMjbAIfPlX",
        "outputId": "cdc940a2-841c-4a26-d27e-e51dd140d6d1"
      },
      "source": [
        "%%writefile Test2Write.cpp\n",
        "\n",
        "#include <iostream>\n",
        "#include <fstream>\n",
        "#include <cstdlib>\n",
        "\n",
        "using namespace std;\n",
        "\n",
        "int main() {\n",
        "  // Create and open a text file\n",
        "  ofstream MyFile(\"input3.txt\");\n",
        "\n",
        " MyFile << 200000 <<\"\\n\";  // n \n",
        " for (int i=1; i < 200001; i++){\n",
        "     MyFile << i <<\" \";\n",
        " }\n",
        "  \n",
        "  // Close the file\n",
        "  MyFile.close();\n",
        "}"
      ],
      "execution_count": 8,
      "outputs": [
        {
          "output_type": "stream",
          "text": [
            "Writing Test2Write.cpp\n"
          ],
          "name": "stdout"
        }
      ]
    },
    {
      "cell_type": "code",
      "metadata": {
        "id": "EH25TkOkZfD9"
      },
      "source": [
        "!g++ Test2Write.cpp -o Test2Write\n",
        "!./Test2Write"
      ],
      "execution_count": 9,
      "outputs": []
    },
    {
      "cell_type": "markdown",
      "metadata": {
        "id": "JB6f03qO-lj9"
      },
      "source": [
        "Measure time\n",
        "\n",
        "https://askubuntu.com/questions/53444/how-can-i-measure-the-execution-time-of-a-terminal-process"
      ]
    },
    {
      "cell_type": "code",
      "metadata": {
        "colab": {
          "base_uri": "https://localhost:8080/"
        },
        "id": "6p2QLEr576zk",
        "outputId": "db968e30-53b8-4fe0-f8c6-c6ec87b2741f"
      },
      "source": [
        "!g++ max_pairwise_product_long.cpp -o max_pairwise_product_long\n",
        "!time ./max_pairwise_product_long < input3.txt"
      ],
      "execution_count": null,
      "outputs": [
        {
          "output_type": "stream",
          "text": [
            "39999800000\n",
            "\n",
            "39999800000\n",
            "\n",
            "real\t2m7.759s\n",
            "user\t2m7.376s\n",
            "sys\t0m0.020s\n"
          ],
          "name": "stdout"
        }
      ]
    },
    {
      "cell_type": "markdown",
      "metadata": {
        "id": "AmZeB2wYjxy5"
      },
      "source": [
        "##### Calculate  the number of instructions executed by the algorithm as a function of n, add in each line a comment with the number of instructions that are executed in that line \n",
        "\n",
        "```cpp\n",
        " int main() {                         //N inst exec by line executed  \n",
        "   \n",
        "    int n;                            //1                      \n",
        "    std::cin >> n;                    //1\n",
        "                                              \n",
        "    std::vector<int> numbers(n);      //n    init vector\n",
        "    .\n",
        "    .\n",
        " }\n",
        "\n",
        "```"
      ]
    },
    {
      "cell_type": "code",
      "metadata": {
        "colab": {
          "base_uri": "https://localhost:8080/"
        },
        "id": "djGX3FL13g9b",
        "outputId": "ac11d13b-44c3-45ff-8ff3-024157d831c2"
      },
      "source": [
        "%%writefile test_init_vectors.cpp\n",
        "#include <iostream>\n",
        "#include <vector>\n",
        "#include <algorithm>\n",
        "int main() {                                                               \n",
        "    int n = 10;                                                                                                                            //1\n",
        "    std::vector<int> numbers(n);                                            \n",
        "    for (int i = 0; i < n; ++i) {                                           \n",
        "        std::cout << numbers[i];                                             \n",
        "    }\n",
        "\n",
        "    std::cout << \"\\n\";                       \n",
        "    return 0;                                                              \n",
        "}  "
      ],
      "execution_count": null,
      "outputs": [
        {
          "output_type": "stream",
          "text": [
            "Writing test_init_vectors.cpp\n"
          ],
          "name": "stdout"
        }
      ]
    },
    {
      "cell_type": "code",
      "metadata": {
        "colab": {
          "base_uri": "https://localhost:8080/"
        },
        "id": "44gZcuE237-1",
        "outputId": "e0f553f7-1574-4bc3-b912-d5a853b7de70"
      },
      "source": [
        "!g++ test_init_vectors.cpp -o test_init_vectors\n",
        "!./test_init_vectors"
      ],
      "execution_count": null,
      "outputs": [
        {
          "output_type": "stream",
          "text": [
            "0000000000\n"
          ],
          "name": "stdout"
        }
      ]
    },
    {
      "cell_type": "code",
      "metadata": {
        "colab": {
          "base_uri": "https://localhost:8080/"
        },
        "id": "uG6Mv-Pwlkii",
        "outputId": "5cde2a94-cee7-4ced-d01a-97067157bb72"
      },
      "source": [
        "%%writefile max_pairwise_product_long.cpp\n",
        "#include <iostream>\n",
        "#include <vector>\n",
        "#include <algorithm>\n",
        "\n",
        "long long MaxPairwiseProduct(const std::vector<int>& numbers) {              //N inst exec by line executed \n",
        "    long long max_product = 0LL;                                             //1                                          \n",
        "\t  long long aux_product = 0LL;                                             //1 \n",
        "    int n = numbers.size();                                                  //1 \n",
        "                                                                             \n",
        "    for (int first = 0; first < n; ++first) {                                //1+2n  \n",
        "        for (int second = first + 1; second < n; ++second) {                 //n + (n-1)n \n",
        "\t\t\t       aux_product =  (long long) numbers[first] * numbers[second];    //(n-1)n/2 \n",
        "            if (max_product < aux_product)  {                                //(n-1)n/2 \n",
        "\t\t\t\t        max_product = aux_product;                                   //[0, (n-1)n/2] \n",
        "             }\n",
        "        }\n",
        "    }\n",
        "                                                                             // -------------- \n",
        "    return max_product;                                                      // 4 + 3n + [2(n-1)n, 2.5 (n-1)n] \n",
        "}\n",
        "\n",
        "int main() {                                              //N inst exec by line executed \n",
        "    int n;                                                //1  \n",
        "    std::cin >> n;                                        //1\n",
        "    std::vector<int> numbers(n);                          //n\n",
        "    for (int i = 0; i < n; ++i) {                         //1 + 2n\n",
        "        std::cin >> numbers[i];                           //n\n",
        "    }\n",
        "\n",
        "    std::cout << MaxPairwiseProduct(numbers) << \"\\n\";     //1 + 1  + 4 + 3n + [2(n-1)n, 2.5 (n-1)n]\n",
        "    return 0;                                             // -------------- \n",
        "}                                                         // 9 + 7n + [2(n-1)n, 2.5 (n-1)n]\n"
      ],
      "execution_count": null,
      "outputs": [
        {
          "output_type": "stream",
          "text": [
            "Overwriting max_pairwise_product_long.cpp\n"
          ],
          "name": "stdout"
        }
      ]
    },
    {
      "cell_type": "markdown",
      "metadata": {
        "id": "0vTsUg8OwcHs"
      },
      "source": [
        "Count executed intructions in code and verify with inputs 1, 2 and 3"
      ]
    },
    {
      "cell_type": "code",
      "metadata": {
        "colab": {
          "base_uri": "https://localhost:8080/"
        },
        "id": "CuRKkqQc137V",
        "outputId": "860477a0-e95d-4279-ecb5-f47f9dd5929d"
      },
      "source": [
        "%%writefile max_pairwise_product_long_execints.cpp\n",
        "#include <iostream>\n",
        "#include <vector>\n",
        "#include <algorithm>\n",
        "\n",
        "long long MaxPairwiseProduct(const std::vector<int>& numbers, long long &execints) {              //N inst exec by line executed \n",
        "    \n",
        "    long long m = 0LL;                                                       //1\n",
        "    \n",
        "    long long max_product = 0LL;                                             //1\n",
        "    execints++;\n",
        "\n",
        "\t  long long aux_product = 0LL;                                             //1\n",
        "    execints++;\n",
        "\n",
        "    int n = numbers.size();                                                  //1 \n",
        "    execints++;\n",
        "\n",
        "    execints++;                                                                         \n",
        "    for (int first = 0; first < n; ++first) {                                //1+2n  \n",
        "        execints += 2;\n",
        "\n",
        "        long long m = 0LL;\n",
        "\n",
        "        execints++;                                    \n",
        "        for (int second = first + 1; second < n; ++second) {                 //n+ (n-1)n \n",
        "            execints += 2;                                                \n",
        "\n",
        "\t\t\t      aux_product =  (long long) numbers[first] * numbers[second];    //(n-1)n/2 \n",
        "            execints++; \n",
        "\n",
        "            execints++; \n",
        "            if ( max_product < aux_product)  {                               //(n-1)n/2 \n",
        "                       \n",
        "\t\t\t\t        max_product = aux_product;                                   //[0, (n-1)n/2] \n",
        "                execints++; \n",
        "                m++;\n",
        "             }\n",
        "        }\n",
        "        if ( (first <= 10) || (n- first <= 10)) std::cout << m << \"\\n\";\n",
        "    }\n",
        "                                                                            // -------------- \n",
        "    return max_product;                                                     // 4 + 3n + [2(n-1)n, 2.5 (n-1)n] \n",
        "}\n",
        "\n",
        "int main() {                                                 //N inst exec by line executed \n",
        "    long long execints =0LL;\n",
        "\n",
        "    int n;                                                   //1\n",
        "    execints++;                                                              \n",
        "    \n",
        "    std::cin >> n;                                           //1\n",
        "    execints++;\n",
        "\n",
        "    std::vector<int> numbers(n);                             //n\n",
        "    execints += n;\n",
        "    \n",
        "    execints++;\n",
        "    for (int i = 0; i < n; ++i) {                            //1 + 2n\n",
        "        execints += 2;\n",
        "\n",
        "        std::cin >> numbers[i];\n",
        "        execints++;                                          //n\n",
        "    }\n",
        "    \n",
        "    //std::cout << MaxPairwiseProduct(numbers) << \"\\n\";      //1 + 1  + 4 + 3n + [2(n-1)n, 2.5 (n-1)n]\n",
        "\n",
        "    execints++;\n",
        "    int M = MaxPairwiseProduct(numbers,execints);\n",
        "\n",
        "    execints++;\n",
        "    std::cout <<  execints << \"\\n\";                       \n",
        "    return 0;                                                // -------------- \n",
        "}                                                            // 9 + 7n + [2(n-1)n, 2.5 (n-1)n]"
      ],
      "execution_count": null,
      "outputs": [
        {
          "output_type": "stream",
          "text": [
            "Overwriting max_pairwise_product_long_execints.cpp\n"
          ],
          "name": "stdout"
        }
      ]
    },
    {
      "cell_type": "code",
      "metadata": {
        "colab": {
          "base_uri": "https://localhost:8080/"
        },
        "id": "Kuvm1C05ly2a",
        "outputId": "1a361b7c-d5cf-4aaf-98ab-3aa51c93785a"
      },
      "source": [
        "!g++ max_pairwise_product_long_execints.cpp -o max_pairwise_product_long_execints\n",
        "!./max_pairwise_product_long_execints < input1.txt\n",
        "!./max_pairwise_product_long_execints < input2.txt\n",
        "!./max_pairwise_product_long_execints < input3.txt"
      ],
      "execution_count": null,
      "outputs": [
        {
          "output_type": "stream",
          "text": [
            "9\n",
            "5\n",
            "4\n",
            "3\n",
            "2\n",
            "2\n",
            "2\n",
            "2\n",
            "1\n",
            "0\n",
            "289\n",
            "2\n",
            "1\n",
            "2\n",
            "0\n",
            "0\n",
            "0\n",
            "116\n",
            "199999\n",
            "100000\n",
            "66667\n",
            "50000\n",
            "40000\n",
            "33334\n",
            "28572\n",
            "25000\n",
            "22223\n",
            "20000\n",
            "18182\n",
            "\n",
            "2\n",
            "2\n",
            "2\n",
            "2\n",
            "2\n",
            "2\n",
            "2\n",
            "2\n",
            "1\n",
            "0\n",
            "80003672077\n"
          ],
          "name": "stdout"
        }
      ]
    },
    {
      "cell_type": "markdown",
      "metadata": {
        "id": "L_uaamxeAHK7"
      },
      "source": [
        "The number of instructions executed by the algooirithm with a list of size $n$ is  \n",
        "\n",
        "$$T = 9 + 7n + [2(n-1)n, 2.5 (n-1)n]$$\n",
        "\n",
        "It depends on the size of the lists and  the order of the list.\n",
        "\n",
        "For the input1.txt \n",
        "```\n",
        "10\n",
        "1 2 3 4 5 6 7 8 9 10\n",
        "```\n",
        "$$T = 9 + 7(10) + 2(9)(10) +  9 + 5 + 4 + 3 + 2 + 2 + 2 + 2 + 1 + 0  = 289 $$\n",
        "\n",
        "For the input2.txt \n",
        "```\n",
        "6\n",
        "1 3 200000 9 200000 23\n",
        "```\n",
        "$$T = 9 + 7(6) + 2(5)(6)  +  2 + 1 + 2 + 0 + 0 + 0 = 116 $$\n",
        "\n",
        "\n",
        "For the input3.txt that is the worst case (n=200000 and list in incresing order)\n",
        "\n",
        "```\n",
        "200000\n",
        "1 2 3 4 5 6 7 8 9 10 ... 199998 199999 200000\n",
        "```\n",
        "\n",
        "$$\n",
        "\\begin{array}{ll}\n",
        "T &= 9 + 7(200000) + (2)(199999)(200000)  + (199999 +\n",
        "100000 + 66667 +50000 \\cdots 2 + 2 + 1)\\\\\n",
        "&= 80003672077  \\\\\n",
        "  &< 9 + 7(200000) + (2.5)(199999)(200000) \\\\\n",
        "  & = 100000900009\n",
        "\\end{array}\n",
        "  $$"
      ]
    },
    {
      "cell_type": "markdown",
      "metadata": {
        "id": "NXW7QkoBL6xH"
      },
      "source": [
        "Calculate estimated time by instruction and number of instructions by second"
      ]
    },
    {
      "cell_type": "code",
      "metadata": {
        "colab": {
          "base_uri": "https://localhost:8080/"
        },
        "id": "pKqB3i7dIxnc",
        "outputId": "8cd7a5ba-b57a-4909-ccc4-dc9351b1f184"
      },
      "source": [
        "# Estimated time by instruction\n",
        "\n",
        "128/80003672077 \n"
      ],
      "execution_count": null,
      "outputs": [
        {
          "output_type": "execute_result",
          "data": {
            "text/plain": [
              "1.5999265618308827e-09"
            ]
          },
          "metadata": {
            "tags": []
          },
          "execution_count": 55
        }
      ]
    },
    {
      "cell_type": "code",
      "metadata": {
        "colab": {
          "base_uri": "https://localhost:8080/"
        },
        "id": "18N1ouqeMhE1",
        "outputId": "3f3cce7c-ada2-4f50-e6d4-9e8a744d1c70"
      },
      "source": [
        "# Estimated number of instructions by second\n",
        "\n",
        "1/(128/80003672077) "
      ],
      "execution_count": null,
      "outputs": [
        {
          "output_type": "execute_result",
          "data": {
            "text/plain": [
              "625028688.1015625"
            ]
          },
          "metadata": {
            "tags": []
          },
          "execution_count": 56
        }
      ]
    },
    {
      "cell_type": "markdown",
      "metadata": {
        "id": "Gd9_CtLVgqu-"
      },
      "source": [
        "---"
      ]
    },
    {
      "cell_type": "markdown",
      "metadata": {
        "id": "hmXaEdr3gulO"
      },
      "source": [
        "---\n"
      ]
    },
    {
      "cell_type": "markdown",
      "metadata": {
        "id": "CQufozXLNJwO"
      },
      "source": [
        "### Efficient solution"
      ]
    },
    {
      "cell_type": "markdown",
      "metadata": {
        "id": "nLcKBwbU0QsE"
      },
      "source": [
        "Add in each line a coment with the number of intstrcution that are executed in that line"
      ]
    },
    {
      "cell_type": "code",
      "metadata": {
        "colab": {
          "base_uri": "https://localhost:8080/"
        },
        "id": "knls5Fh3NSt_",
        "outputId": "13da7c7d-5200-404d-8a82-1ad601330db3"
      },
      "source": [
        "%%writefile efficient_maxpairwise.cpp\n",
        "#include <iostream>\n",
        "#include <vector>\n",
        "using namespace std;\n",
        "long long MaxPairwiseProductFast(const vector<int>& numbers){\n",
        "    int n = numbers.size();\n",
        "\n",
        "    int max_index1 = -1;\n",
        "    for(int i = 0; i<n ; i++){      \n",
        "        if((max_index1 == -1 )|| (numbers[i]> numbers[max_index1])){\n",
        "            max_index1 = i;\n",
        "        }\n",
        "    }\n",
        "    int max_index2 = -1;\n",
        "    for(int j = 0; j<n ; j++){\n",
        "        if((j != max_index1) && ((max_index2 == -1) || (numbers[j] > numbers[max_index2]))){\n",
        "            max_index2 = j;\n",
        "        }\n",
        "    }\n",
        "    return ((long long)(numbers[max_index1])) * numbers[max_index2];\n",
        "}\n",
        "int main(){ \n",
        "    int n; \n",
        "    cin >> n;\n",
        "    vector<int> arr(n);\n",
        "    for(int i = 0; i < n; i++ ){\n",
        "        cin >> arr[i];\n",
        "    }\n",
        "    cout << MaxPairwiseProductFast(arr)<<\"\\n\";\n",
        "    \n",
        "    return 0;\n",
        "}"
      ],
      "execution_count": null,
      "outputs": [
        {
          "output_type": "stream",
          "text": [
            "Writing efficient_maxpairwise.cpp\n"
          ],
          "name": "stdout"
        }
      ]
    },
    {
      "cell_type": "markdown",
      "metadata": {
        "id": "-JCijbWxNSii"
      },
      "source": [
        "Test with inputs 1 and 2\n",
        "\n"
      ]
    },
    {
      "cell_type": "code",
      "metadata": {
        "colab": {
          "base_uri": "https://localhost:8080/"
        },
        "id": "TrTGAfqlNVXT",
        "outputId": "bc53d0fd-b288-482a-e114-d385fdbdc37d"
      },
      "source": [
        "!g++ efficient_maxpairwise.cpp -o efficient_maxpairwise\n",
        "!./efficient_maxpairwise < input1.txt\n",
        "!./efficient_maxpairwise < input2.txt"
      ],
      "execution_count": null,
      "outputs": [
        {
          "output_type": "stream",
          "text": [
            "90\n",
            "40000000000\n"
          ],
          "name": "stdout"
        }
      ]
    },
    {
      "cell_type": "code",
      "metadata": {
        "colab": {
          "base_uri": "https://localhost:8080/"
        },
        "id": "K0cUzicCMx3B",
        "outputId": "bc89a885-d7c3-4b05-978f-36b7f7bc018e"
      },
      "source": [
        "!time ./efficient_maxpairwise < input1.txt\n",
        "!time ./efficient_maxpairwise < input2.txt"
      ],
      "execution_count": null,
      "outputs": [
        {
          "output_type": "stream",
          "text": [
            "90\n",
            "\n",
            "real\t0m0.003s\n",
            "user\t0m0.001s\n",
            "sys\t0m0.002s\n",
            "40000000000\n",
            "\n",
            "real\t0m0.003s\n",
            "user\t0m0.002s\n",
            "sys\t0m0.001s\n"
          ],
          "name": "stdout"
        }
      ]
    },
    {
      "cell_type": "markdown",
      "metadata": {
        "id": "PRX51wADNR8b"
      },
      "source": [
        "Test and time it with input 3"
      ]
    },
    {
      "cell_type": "code",
      "metadata": {
        "colab": {
          "base_uri": "https://localhost:8080/"
        },
        "id": "v4z7-Is_NRt7",
        "outputId": "671c38d1-d85a-4a1b-cd6c-65e18d3626ae"
      },
      "source": [
        "!time ./efficient_maxpairwise < input3.txt"
      ],
      "execution_count": null,
      "outputs": [
        {
          "output_type": "stream",
          "text": [
            "39999800000\n",
            "\n",
            "real\t0m0.060s\n",
            "user\t0m0.059s\n",
            "sys\t0m0.001s\n"
          ],
          "name": "stdout"
        }
      ]
    },
    {
      "cell_type": "markdown",
      "metadata": {
        "id": "rpdfs0_TNZJf"
      },
      "source": [
        "20 stress tests"
      ]
    },
    {
      "cell_type": "code",
      "metadata": {
        "colab": {
          "base_uri": "https://localhost:8080/"
        },
        "id": "Lu4tYcKzNcTT",
        "outputId": "f8b32ff7-72de-4274-e383-97f37b415db1"
      },
      "source": [
        "import time\n",
        "for i in range (20):\n",
        "  !./generador\n",
        "  time.sleep(1)\n",
        "  !./efficient_maxpairwise < stress.txt"
      ],
      "execution_count": null,
      "outputs": [
        {
          "output_type": "stream",
          "text": [
            "\n",
            "23691309\n",
            "\n",
            "35959586773\n",
            "\n",
            "27940903092\n",
            "\n",
            "134695524\n",
            "\n",
            "25925947213\n",
            "\n",
            "31724618010\n",
            "\n",
            "34917636789\n",
            "\n",
            "37008150244\n",
            "\n",
            "10011462960\n",
            "\n",
            "18925369407\n",
            "\n",
            "36551147709\n",
            "\n",
            "15614784215\n",
            "\n",
            "34035799486\n",
            "\n",
            "33100971898\n",
            "\n",
            "31312002990\n",
            "\n",
            "28016790908\n",
            "\n",
            "30920586717\n",
            "\n",
            "34282549749\n",
            "\n",
            "9223619712\n",
            "\n",
            "34787890704\n"
          ],
          "name": "stdout"
        }
      ]
    },
    {
      "cell_type": "markdown",
      "metadata": {
        "id": "L8U4151JNbxk"
      },
      "source": [
        "Count executed instructions in code and verify with inputs 1,2 and 3\n"
      ]
    },
    {
      "cell_type": "code",
      "metadata": {
        "colab": {
          "base_uri": "https://localhost:8080/"
        },
        "id": "dh85RM8vNhFz",
        "outputId": "93ceb204-9d48-41a6-c4e6-58b9fb102a75"
      },
      "source": [
        ""
      ],
      "execution_count": null,
      "outputs": [
        {
          "output_type": "stream",
          "text": [
            "Overwriting efficient_maxpairwiseCount.cpp\n"
          ],
          "name": "stdout"
        }
      ]
    },
    {
      "cell_type": "code",
      "metadata": {
        "colab": {
          "base_uri": "https://localhost:8080/"
        },
        "id": "37ikklOPHQj9",
        "outputId": "70e71f21-7723-49e0-df22-99d6e2367b89"
      },
      "source": [
        "!g++ MaxPairwiseProductFastCount.cpp -o MaxPairwiseProductFastCount\n",
        "!./MaxPairwiseProductFastCount < input1.txt\n",
        "!./MaxPairwiseProductFastCount < input2.txt\n",
        "!./MaxPairwiseProductFastCount < input3.txt"
      ],
      "execution_count": null,
      "outputs": [
        {
          "output_type": "stream",
          "text": [
            "\u001b[01m\u001b[Kg++:\u001b[m\u001b[K \u001b[01;31m\u001b[Kerror: \u001b[m\u001b[KMaxPairwiseProductFastCount.cpp: No such file or directory\n",
            "\u001b[01m\u001b[Kg++:\u001b[m\u001b[K \u001b[01;31m\u001b[Kfatal error: \u001b[m\u001b[Kno input files\n",
            "compilation terminated.\n",
            "/bin/bash: ./MaxPairwiseProductFastCount: No such file or directory\n",
            "/bin/bash: ./MaxPairwiseProductFastCount: No such file or directory\n",
            "/bin/bash: ./MaxPairwiseProductFastCount: No such file or directory\n"
          ],
          "name": "stdout"
        }
      ]
    },
    {
      "cell_type": "markdown",
      "metadata": {
        "id": "K6ybgCmpNygr"
      },
      "source": [
        "Calculate estimated time by instruction and number of instructions by second"
      ]
    },
    {
      "cell_type": "code",
      "metadata": {
        "id": "kwe3G1O3Nz1w"
      },
      "source": [
        ""
      ],
      "execution_count": null,
      "outputs": []
    },
    {
      "cell_type": "markdown",
      "metadata": {
        "id": "sc9nOLQrfTm0"
      },
      "source": [
        "### Super efficient solution\n",
        "\n",
        "Whitout storing the list in memory and whitout calling a function, add in each line a coment with the number of intstrcution that are executed in that line "
      ]
    },
    {
      "cell_type": "code",
      "metadata": {
        "colab": {
          "base_uri": "https://localhost:8080/"
        },
        "id": "hBLt_xBQLy8E",
        "outputId": "d24a4351-295d-44e3-94e6-b624543bd471"
      },
      "source": [
        "%%writefile superfast.cpp\n",
        "#include <iostream>\n",
        "\n",
        "using namespace std;\n",
        "\n",
        "int main() {\n",
        "    long long n, a = 0, b = 0, num = 1;\n",
        "\n",
        "    cin >> n;\n",
        "    \n",
        "    for (int i = 0; i < n; i++){\n",
        "        cin >> num;\n",
        "        if(num >= a){\n",
        "            b = a;\n",
        "            a = num;\n",
        "        }\n",
        "        else if(num > b)\n",
        "            b = num;\n",
        "    }\n",
        "\n",
        "    cout << a*b<<\"\\n\";\n",
        "\n",
        "return 0;\n",
        "}"
      ],
      "execution_count": null,
      "outputs": [
        {
          "output_type": "stream",
          "text": [
            "Writing superfast.cpp\n"
          ],
          "name": "stdout"
        }
      ]
    },
    {
      "cell_type": "markdown",
      "metadata": {
        "id": "683gc3roHqzb"
      },
      "source": [
        "Test with inputs 1 and 2\n",
        "\n",
        "\n",
        " "
      ]
    },
    {
      "cell_type": "code",
      "metadata": {
        "colab": {
          "base_uri": "https://localhost:8080/"
        },
        "id": "b7d4LA8OIc2_",
        "outputId": "73e3d2a5-7fa7-478a-84dc-2b37c1e7fcd1"
      },
      "source": [
        "!g++ superfast.cpp -o superfast\n",
        "!./superfast < input1.txt\n",
        "!./superfast < input2.txt"
      ],
      "execution_count": null,
      "outputs": [
        {
          "output_type": "stream",
          "text": [
            "90\n",
            "40000000000\n"
          ],
          "name": "stdout"
        }
      ]
    },
    {
      "cell_type": "code",
      "metadata": {
        "colab": {
          "base_uri": "https://localhost:8080/"
        },
        "id": "PvIyd17bGDqO",
        "outputId": "a0ebd2e5-3988-4ea7-c8db-f7c452e7e311"
      },
      "source": [
        "!time ./superfast < input1.txt\n",
        "!time ./superfast < input2.txt"
      ],
      "execution_count": null,
      "outputs": [
        {
          "output_type": "stream",
          "text": [
            "90\n",
            "\n",
            "real\t0m0.003s\n",
            "user\t0m0.001s\n",
            "sys\t0m0.002s\n",
            "40000000000\n",
            "\n",
            "real\t0m0.003s\n",
            "user\t0m0.001s\n",
            "sys\t0m0.002s\n"
          ],
          "name": "stdout"
        }
      ]
    },
    {
      "cell_type": "markdown",
      "metadata": {
        "id": "36Ugn1odIeJz"
      },
      "source": [
        "Test and time it with input 3"
      ]
    },
    {
      "cell_type": "code",
      "metadata": {
        "colab": {
          "base_uri": "https://localhost:8080/"
        },
        "id": "jDyMbCnxHqSN",
        "outputId": "581e89ee-fc38-441e-8137-9ded53e32ec0"
      },
      "source": [
        "!time ./superfast < input3.txt"
      ],
      "execution_count": null,
      "outputs": [
        {
          "output_type": "stream",
          "text": [
            "39999800000\n",
            "\n",
            "real\t0m0.062s\n",
            "user\t0m0.055s\n",
            "sys\t0m0.004s\n"
          ],
          "name": "stdout"
        }
      ]
    },
    {
      "cell_type": "markdown",
      "metadata": {
        "id": "bhqiKQG6fjKM"
      },
      "source": [
        "20 stress tests "
      ]
    },
    {
      "cell_type": "code",
      "metadata": {
        "id": "E-J8UfwteQhv",
        "colab": {
          "base_uri": "https://localhost:8080/"
        },
        "outputId": "53a0d231-37cb-4ef9-f083-8bb41dd1101e"
      },
      "source": [
        "import time\n",
        "for i in range (20):\n",
        "  !./generador\n",
        "  time.sleep(1)\n",
        "  !./superfast < stress.txt"
      ],
      "execution_count": null,
      "outputs": [
        {
          "output_type": "stream",
          "text": [
            "\n",
            "37209087902\n",
            "\n",
            "33043416420\n",
            "\n",
            "33037656384\n",
            "\n",
            "34822979944\n",
            "\n",
            "27654943668\n",
            "\n",
            "23638170010\n",
            "\n",
            "32483934240\n",
            "\n",
            "37423405260\n",
            "\n",
            "16733683794\n",
            "\n",
            "20548496632\n",
            "\n",
            "25579709120\n",
            "\n",
            "33279489920\n",
            "\n",
            "22889424470\n",
            "\n",
            "33252397290\n",
            "\n",
            "36595135694\n",
            "\n",
            "21769596491\n",
            "\n",
            "22508686086\n",
            "\n",
            "15910471676\n",
            "\n",
            "19086780543\n",
            "\n",
            "36135757770\n"
          ],
          "name": "stdout"
        }
      ]
    },
    {
      "cell_type": "markdown",
      "metadata": {
        "id": "fEXj8GHJH5p1"
      },
      "source": [
        "Count executed instructions in code and verify with inputs 1,2 and 3"
      ]
    },
    {
      "cell_type": "code",
      "metadata": {
        "colab": {
          "base_uri": "https://localhost:8080/"
        },
        "id": "LF1DHjKXIAsF",
        "outputId": "c02f8db4-966b-4305-b846-7a3a35775306"
      },
      "source": [
        "%%writefile superfastCount.cpp\n",
        "#include <iostream>\n",
        "\n",
        "using namespace std;\n",
        "\n",
        "int main() {\n",
        "    \n",
        "    long long execints =0LL;\n",
        "    \n",
        "    long long n, a = 0, b = 0, num = 1;  //1 + 1 + 1 + 1 \n",
        "    execints += 4;\n",
        "    \n",
        "    cin >> n;                            //1 \n",
        "    execints++;\n",
        "    \n",
        "    for (int i = 0; i < n; i++){         //1+2n \n",
        "        execints += 2;\n",
        "        cin >> num;                      // 1\n",
        "        execints++;                     \n",
        "        if(num >= a){                    //(n-1)n/2                 \n",
        "            b = a;\n",
        "            execints++;\n",
        "            a = num;  \n",
        "            execints++;                //[0, (n-1)n/2] \n",
        "        }\n",
        "        else if(num > b){               //(n-1)n/2\n",
        "            b = num;                    \n",
        "            execints++;                 //[0, (n-1)n/2]\n",
        "        }\n",
        "    }                                   //n  \n",
        "    cout << a*b<<\"\\n\";                  //1\n",
        "    execints++;\n",
        "    cout <<\"lineas ejecutadas: \"<< execints<<\"\\n\";\n",
        "return 0;\n",
        "}"
      ],
      "execution_count": null,
      "outputs": [
        {
          "output_type": "stream",
          "text": [
            "Writing superfastCount.cpp\n"
          ],
          "name": "stdout"
        }
      ]
    },
    {
      "cell_type": "code",
      "metadata": {
        "colab": {
          "base_uri": "https://localhost:8080/"
        },
        "id": "N0A6anZd6ttF",
        "outputId": "f6ee457a-e6d5-46ba-fe77-c196ddd01b11"
      },
      "source": [
        "!g++ superfastCount.cpp -o superfastCount\n",
        "!./superfastCount < input1.txt\n",
        "!./superfastCount < input2.txt\n",
        "!./superfastCount < input3.txt"
      ],
      "execution_count": null,
      "outputs": [
        {
          "output_type": "stream",
          "text": [
            "90\n",
            "lineas ejecutadas: 56\n",
            "40000000000\n",
            "lineas ejecutadas: 33\n",
            "39999800000\n",
            "lineas ejecutadas: 1000006\n"
          ],
          "name": "stdout"
        }
      ]
    },
    {
      "cell_type": "markdown",
      "metadata": {
        "id": "y0Emj3UF79xD"
      },
      "source": [
        "$$T(n)=6+5*(n)=6+5*(10)=56$$\n",
        "\n",
        "$$T(n)=6+5(n-1)+2=33$$"
      ]
    },
    {
      "cell_type": "markdown",
      "metadata": {
        "id": "yae7sSm2IG9U"
      },
      "source": [
        "Calculate estimated time by instruction and number of instructions by second"
      ]
    },
    {
      "cell_type": "markdown",
      "metadata": {
        "id": "WSDlinMVGQ0A"
      },
      "source": [
        "1-$$\\text{Tiempo por instruccion: }\\frac{0.004}{56}=7.14\\times 10^{-5}s$$\n",
        "  $$\\text{Instrucciones por segundo: }\\frac{1}{\\frac{0.004}{56}}=14000$$\n",
        "2-$$\\text{Tiempo por instruccion: }\\frac{0.003}{33}=9.09\\times10^{-5}s$$\n",
        "  $$\\text{Instrucciones por segundo: }\\frac{1}{\\frac{0.003}{33}}=11000$$\n",
        "3-$$\\text{Tiempo por instruccion: }\\frac{0.063}{1000006}=6.3\\times10^{-8}s$$\n",
        "$$\\text{Instrucciones por segundo: }\\frac{1}{\\frac{0.063}{1000006}}=15873111$$"
      ]
    },
    {
      "cell_type": "markdown",
      "metadata": {
        "id": "_juvx2zwCC26"
      },
      "source": [
        ""
      ]
    },
    {
      "cell_type": "markdown",
      "metadata": {
        "id": "rydCU4bFfrhG"
      },
      "source": [
        "## Python"
      ]
    },
    {
      "cell_type": "markdown",
      "metadata": {
        "id": "6n707zUXO0N0"
      },
      "source": [
        "Efficient cython file reading, string parsing, and array building\n",
        "\n",
        "https://stackoverflow.com/questions/37219875/efficient-cython-file-reading-string-parsing-and-array-building\n",
        "\n",
        "\n",
        "\n",
        "File PreProcessing With C and Cython\n",
        "\n",
        "https://github.com/EveryTimeIWill18/Cython_Repo/blob/master/FastFileProcessingWithCython.ipynb\n",
        "\n"
      ]
    },
    {
      "cell_type": "markdown",
      "metadata": {
        "id": "lMqcphN6RY4w"
      },
      "source": [
        "#Efficient solution python"
      ]
    },
    {
      "cell_type": "code",
      "metadata": {
        "colab": {
          "base_uri": "https://localhost:8080/"
        },
        "id": "h8fcCZYwP5VY",
        "outputId": "94b02a8c-e078-4d19-8965-518763f9085a"
      },
      "source": [
        "%%writefile pythoneff.py\n",
        "def max_pairwise_product(numbers):\n",
        "    n = len(numbers)\n",
        "    max_product = 0\n",
        "    for first in range(n):\n",
        "        for second in range(first + 1, n):\n",
        "            max_product = max(max_product,\n",
        "                numbers[first] * numbers[second])\n",
        "\n",
        "    return max_product\n",
        "\n",
        "\n",
        "if __name__ == '__main__':\n",
        "    input_n = int(input())\n",
        "    input_numbers = [int(x) for x in input().split()]\n",
        "    print(max_pairwise_product(input_numbers))"
      ],
      "execution_count": 5,
      "outputs": [
        {
          "output_type": "stream",
          "text": [
            "Overwriting pythoneff.py\n"
          ],
          "name": "stdout"
        }
      ]
    },
    {
      "cell_type": "markdown",
      "metadata": {
        "id": "5GwOPAGRRWoo"
      },
      "source": [
        "Test 1 and Test 2"
      ]
    },
    {
      "cell_type": "code",
      "metadata": {
        "colab": {
          "base_uri": "https://localhost:8080/"
        },
        "id": "CMfl8-0uQCX3",
        "outputId": "eb611cfe-2d7b-4e54-a66b-a63c89fc721a"
      },
      "source": [
        "!python pythoneff.py < input1.txt\n",
        "!python pythoneff.py < input2.txt"
      ],
      "execution_count": 7,
      "outputs": [
        {
          "output_type": "stream",
          "text": [
            "90\n",
            "40000000000\n"
          ],
          "name": "stdout"
        }
      ]
    },
    {
      "cell_type": "markdown",
      "metadata": {
        "id": "ROoNZp7vRchG"
      },
      "source": [
        "Measuring time with test 3"
      ]
    },
    {
      "cell_type": "code",
      "metadata": {
        "colab": {
          "base_uri": "https://localhost:8080/"
        },
        "id": "p4c5FaD8Q76x",
        "outputId": "c470d1e8-80ad-4eb4-9635-74f915fa9321"
      },
      "source": [
        "!time python pythoneff.py < input3.txt"
      ],
      "execution_count": 11,
      "outputs": [
        {
          "output_type": "stream",
          "text": [
            "Traceback (most recent call last):\n",
            "  File \"pythoneff.py\", line 15, in <module>\n",
            "    print(max_pairwise_product(input_numbers))\n",
            "  File \"pythoneff.py\", line 7, in max_pairwise_product\n",
            "    numbers[first] * numbers[second])\n",
            "KeyboardInterrupt\n",
            "\n",
            "real\t6m22.671s\n",
            "user\t6m21.055s\n",
            "sys\t0m0.107s\n"
          ],
          "name": "stdout"
        }
      ]
    },
    {
      "cell_type": "markdown",
      "metadata": {
        "id": "LkVxxlhl9H98"
      },
      "source": [
        "# Screenhsoots of the Coursera Submissions in C++ and Python"
      ]
    },
    {
      "cell_type": "markdown",
      "metadata": {
        "id": "fS4Akp3-y8yv"
      },
      "source": [
        "![](https://drive.google.com/uc?id=1jD8ZedSpbO_ar5x-GnM_fJReeUvfvrg3)"
      ]
    },
    {
      "cell_type": "markdown",
      "metadata": {
        "id": "ogyM8wJxy9-P"
      },
      "source": [
        "![](https://drive.google.com/uc?id=1LSIlLyYbhdfQvVBDsW_wsXdlS-N59MgW)"
      ]
    }
  ]
}