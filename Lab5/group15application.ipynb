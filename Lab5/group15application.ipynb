{
  "nbformat": 4,
  "nbformat_minor": 0,
  "metadata": {
    "colab": {
      "name": "group15application.ipynb",
      "provenance": [],
      "collapsed_sections": []
    },
    "kernelspec": {
      "name": "python3",
      "display_name": "Python 3"
    },
    "language_info": {
      "name": "python"
    }
  },
  "cells": [
    {
      "cell_type": "markdown",
      "metadata": {
        "id": "-lLMVKSAdc2K"
      },
      "source": [
        "#Url: http://nhoyosp.pythonanywhere.com/ \n",
        "\n",
        "Integrantes:\n",
        "\n",
        "Nicolas Hoyos Pedraza. nhoyosp@unal.edu.co\n",
        "\n",
        "Diego Alejandro Irreño Torres. dirreno@unal.edu.co\n",
        "\n",
        "David Santiago León Muñoz. dleonmu@unal.edu.co\n",
        "\n",
        "\n",
        "\n"
      ]
    }
  ]
}