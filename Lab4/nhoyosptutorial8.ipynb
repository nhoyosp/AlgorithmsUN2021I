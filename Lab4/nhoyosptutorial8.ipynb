{
 "cells": [
  {
   "cell_type": "markdown",
   "metadata": {},
   "source": [
    "**Introduction to Financial Python**\n",
    "--\n",
    "Confidence Interval and Hypothesis Testing\n",
    "\n",
    "---\n",
    "\n",
    "**Introduction**\n",
    "\n",
    "In the last chapter we discussed random variables and random distributions. Now we are going to use the distributions we learned to test our hypothesis and also to model the financial data. When building a trading strategy, it's essential to do some research. However, you won't be able to test your idea using all the data, because it's infinity. You can only use a sample to do your experiment. That's why we need to understand the difference between population and sample, and then use confidence interval to test our hypothesis.\n",
    "\n",
    "As we mentioned before, both mean and standard deviation are point estimation, and they can be deceiving because sample means are different from population means. Financial data is generated every day now and in the future, thus even though we can use all the data available, it's still just a sample. This is why we need to use confidence interval to attempt to determine how accurate our sample mean estimation is.\n",
    "\n",
    "**Confidence Interval**\n",
    "\n",
    "Sample Error\n",
    "\n",
    "Let's use the daily return on S&P 500 index from Aug 2010 to present is our population. If we take the recent 10 daily returns to calculate the mean, will it be the same as the population mean? How about increasing the sample size to 1000?"
   ]
  },
  {
   "cell_type": "code",
   "execution_count": 7,
   "metadata": {},
   "outputs": [
    {
     "name": "stdout",
     "output_type": "stream",
     "text": [
      "Population mean: 0.0005466091025316221\n",
      "Population standard deviation: 0.010795101833972432\n"
     ]
    }
   ],
   "source": [
    "import matplotlib.pyplot as plt\n",
    "import numpy as np\n",
    "import pandas as pd\n",
    "\n",
    "qb = QuantBook()\n",
    "spy = qb.AddEquity(\"SPY\").Symbol\n",
    "\n",
    "#get SPY data from August 2010 to the present\n",
    "start_date = datetime(2010, 8, 1, 0, 0, 0)\n",
    "end_date = qb.Time\n",
    "spy_table = qb.History(spy, start_date, end_date, Resolution.Daily)\n",
    "\n",
    "spy_total = spy_table[['open','close']]\n",
    "#calculate log returns\n",
    "spy_log_return = np.log(spy_total.close).diff().dropna()\n",
    "print('Population mean:', np.mean(spy_log_return))\n",
    "print('Population standard deviation:',np.std(spy_log_return))"
   ]
  },
  {
   "cell_type": "markdown",
   "metadata": {},
   "source": [
    "Now let's check the recent 10 days sample and recent 1000 days sample:"
   ]
  },
  {
   "cell_type": "code",
   "execution_count": 8,
   "metadata": {},
   "outputs": [
    {
     "name": "stdout",
     "output_type": "stream",
     "text": [
      "10 days sample returns: 0.0034039131162008295\n",
      "10 days sample standard deviation: 0.012451845533620153\n",
      "1000 days sample returns: 0.0005896819699788045\n",
      "1000 days sample standard deviation: 0.012907732514428115\n"
     ]
    }
   ],
   "source": [
    "print('10 days sample returns:', np.mean(spy_log_return.tail(10)))\n",
    "print('10 days sample standard deviation:', np.std(spy_log_return.tail(10)))\n",
    "print('1000 days sample returns:', np.mean(spy_log_return.tail(1000)))\n",
    "print('1000 days sample standard deviation:', np.std(spy_log_return.tail(1000)))"
   ]
  },
  {
   "cell_type": "markdown",
   "metadata": {},
   "source": [
    "As we expected, the two samples has different means and variances.\n",
    "\n",
    "Confidence Interval\n",
    "\n",
    "In order to estimate the range of population mean, we define standard error of the mean as follows:\n",
    "\n",
    "$$SE=\\frac{\\sigma}{\\sqrt{n}}$$\n",
    "\n",
    "Where $\\sigma$ is the sample standard deviation and $n$ is the sample size.\n",
    "\n",
    "Generally, if we want to estimate an interval of the population so that 95% of the time the interval will contain the population mean, the interval is calculated as:\n",
    "\n",
    "$$(\\mu−1.96∗SE,μ+1.96∗SE)$$\n",
    "\n",
    "Where $\\mu$ is the sample mean and SE is the standard error.\n",
    "\n",
    "This interval is called confidence interval. We usually use 1.96 to calculate a 95% confidence interval because we assume that the sample mean follows normal distribution. We will cover this in detail later. Let's try to calculate the confidence interval using the samples above:"
   ]
  },
  {
   "cell_type": "code",
   "execution_count": 9,
   "metadata": {},
   "outputs": [
    {
     "name": "stdout",
     "output_type": "stream",
     "text": [
      "10 days 95% confidence inverval: (-0.004313820703730717, 0.011121646936132375)\n",
      "1000 days 95% confidence inverval: (-0.0002103475798277745, 0.0013897115197853836)\n"
     ]
    }
   ],
   "source": [
    "bottom_1 = np.mean(spy_log_return.tail(10))-1.96*np.std(spy_log_return.tail(10))/(np.sqrt(len((spy_log_return.tail(10)))))\n",
    "upper_1 = np.mean(spy_log_return.tail(10))+1.96*np.std(spy_log_return.tail(10))/(np.sqrt(len((spy_log_return.tail(10)))))\n",
    "bottom_2 = np.mean(spy_log_return.tail(1000))-1.96*np.std(spy_log_return.tail(1000))/(np.sqrt(len((spy_log_return.tail(1000)))))\n",
    "upper_2 = np.mean(spy_log_return.tail(1000))+1.96*np.std(spy_log_return.tail(1000))/(np.sqrt(len((spy_log_return.tail(1000)))))\n",
    "#print the outcomes\n",
    "print('10 days 95% confidence inverval:', (bottom_1,upper_1))\n",
    "print('1000 days 95% confidence inverval:', (bottom_2,upper_2))"
   ]
  },
  {
   "cell_type": "markdown",
   "metadata": {},
   "source": [
    "As we can see, the 95% confidence interval became much narrower if we increase the sample size from 10 to 1000. Imagine that if N goes positive infinite, then we have $\\lim_{n\\to \\infty}\\frac{\\sigma}{\\sqrt{n}}=0$. The confidence interval would become a certain value, which is the sample mean!\n",
    "\n",
    "Confidence Interval of Normal Distribution\n",
    "\n",
    "Normal Distribution is so commonly used that we should be able to remember some critical values of it. Specifically, we usually use 90%, 95% and 99% as the confidence level of a confidence interval. The critical values for these three confidence levels are 1.64, 1.96, and 2.32 respectively. in other words:\n",
    "\n",
    "$$\\%90upperabnd=\\mu+1.64∗SE$$\n",
    "\n",
    "The same for other confidence intervals. It's also important to remember the famous 'Three sigma rule' or '68-95-99.7' rule associated with normal distribution. This is used to remember the confidence level of the intervals with a width of two, four and six standard deviation. Mathematically:\n",
    "\n",
    "$$P(\\mu−\\sigma≤X≤\\mu+\\sigma)≈0.6827$$\n",
    "$$P(\\mu−2\\sigma≤X≤\\mu+2\\sigma)≈0.9545$$\n",
    "$$P(\\mu−3\\sigma≤X≤\\mu+3\\sigma)≈0.9973$$\n",
    "\n",
    "This can also be remembered by using the chart:\n",
    "![](https://drive.google.com/uc?id=16tSBLmqaj7-Pwo0a4VKnNjaGkKSviouy)\n",
    "\n",
    "Central Limit Theory\n",
    "\n",
    "As we mentioned, if we use the sample to estimate the confidence interval of the population, the 95% confidence interval is:\n",
    "\n",
    "$$(\\mu−1.96∗SE,\\mu+1.96∗SE)$$\n",
    "\n",
    "Now you may have some sense to the number 1.96. It's the 95% critical value of a normal distribution. Does this means we assume the mean of sample follows a normal distribution? The answer is yes. This assumption is supported by central limit theorem. This theorem tells us that given a sufficiently large sample size from a population with a finite level of variance, the mean of all samples from the same population will be approximately equal to the mean of the population, and the means of the samples will be approximately normal distributed. This is the foundation of population mean confidence interval estimation.\n",
    "\n",
    "**Hypothesis testing**\n",
    "\n",
    "Now we can talk about hypothesis testing. Hypothesis test is essentially test your inference based on a sample. Let's use our dataset, the daily return of S&P 500 us our population. Assume that we don't know the mean of this population. I guess that the mean of this population is 0. Is my guess correct? I need to test this hypothesis with my sample. Let's start from observing our sample:"
   ]
  },
  {
   "cell_type": "code",
   "execution_count": 10,
   "metadata": {},
   "outputs": [
    {
     "name": "stdout",
     "output_type": "stream",
     "text": [
      "mean_10      0.003404\n",
      "std_10       0.012452\n",
      "mean_1000    0.000590\n",
      "std_1000     0.012908\n",
      "dtype: float64\n"
     ]
    }
   ],
   "source": [
    "mean_1000 = np.mean(spy_log_return.tail(1000))\n",
    "std_1000 = np.std(spy_log_return.tail(1000))\n",
    "mean_10 = np.mean(spy_log_return.tail(10))\n",
    "std_10 = np.std(spy_log_return.tail(10))\n",
    "s = pd.Series([mean_10,std_10,mean_1000,std_1000],index = ['mean_10', 'std_10','mean_1000','std_1000'])\n",
    "print(s)"
   ]
  },
  {
   "cell_type": "markdown",
   "metadata": {},
   "source": [
    "We know how to calculate the confidence interval now. If I were right, i.e. the population mean is 0, then the 90% confidence interval of the sample with 1000 observations should be:"
   ]
  },
  {
   "cell_type": "code",
   "execution_count": 11,
   "metadata": {},
   "outputs": [
    {
     "name": "stdout",
     "output_type": "stream",
     "text": [
      "(-0.0006694124804504027, 0.0006694124804504027)\n"
     ]
    }
   ],
   "source": [
    "bottom = 0 - 1.64*std_1000/np.sqrt(1000)\n",
    "upper = 0 + 1.64*std_1000/np.sqrt(1000)\n",
    "print((bottom, upper))"
   ]
  },
  {
   "cell_type": "markdown",
   "metadata": {},
   "source": [
    "Our mean of the sample is out of the 90% confidence interval. This means on a 90% confidence level, we can claim that the mean of our population is not 0. In other word, we rejected the hypothesis that the daily return on S&P500 from aug 2010 is zero. Can we claim that with 95% confidence level?"
   ]
  },
  {
   "cell_type": "code",
   "execution_count": 12,
   "metadata": {},
   "outputs": [
    {
     "name": "stdout",
     "output_type": "stream",
     "text": [
      "(-0.000800029549806579, 0.000800029549806579)\n"
     ]
    }
   ],
   "source": [
    "bottom = 0 - 1.96*std_1000/np.sqrt(1000)\n",
    "upper = 0 + 1.96*std_1000/np.sqrt(1000)\n",
    "print((bottom, upper))"
   ]
  },
  {
   "cell_type": "markdown",
   "metadata": {},
   "source": [
    "This time the sample mean is within the confidence interval. Thus we can't reject my hypothesis. In other words, we can't claim with 95% confidence level that the mean return is positive. Even though we can claim it with 90% confidence level. We have actually already finished a hypothesis testing above! In general, we have null hypothesis H0 and alternative hypothesis. They are usually in the following forms:\n",
    "\n",
    "$$H_0:\\overline{\\mu}=0$$\n",
    "$$H_0:\\overline{\\mu}\\not=0$$\n",
    "\n",
    "If the tested value is outside the confidence interval, we reject the null hypothesis, or accept the alternative hypothesis; If the tested value is within the confidence interval, we can't reject the null hypothesis. Although the hypothesis testing method we used above is straightforward, it's not so convenient to implement. Instead, we reverse the process to calculate the critical value, or Z-score. Z-score is defined as:\n",
    "\n",
    "$$Z=\\frac{X-\\mu}{\\frac{\\sigma}{\\sqrt{n}}}$$\n",
    "\n",
    "Let's calculate the Z score from our sample:"
   ]
  },
  {
   "cell_type": "code",
   "execution_count": 13,
   "metadata": {},
   "outputs": [
    {
     "name": "stdout",
     "output_type": "stream",
     "text": [
      "1.4446674643928914\n"
     ]
    }
   ],
   "source": [
    "print(np.sqrt(1000)*(mean_1000 - 0)/std_1000)"
   ]
  },
  {
   "cell_type": "markdown",
   "metadata": {},
   "source": [
    "We know that the critical value for the 90% confidence level is 1.64 and that for the 95% confidence level is 95%. The higher the $Z$ score is, the further the tested value is from the hypothesized value(which is 0 in this example). Thus with 90% confidence level, we are far away enough from zero and we reject the null hypothesis. However with 95% confidence level, we are not far away enough from zero, so we can't reject the null hypothesis. One reason of doing in this way is that we can know how wide our confidence interval is. In our example, the z-score is 1.8488. We can know the width is the confidence interval referring to a normal distribution table. Of course we can do this in Python:"
   ]
  },
  {
   "cell_type": "code",
   "execution_count": 14,
   "metadata": {},
   "outputs": [
    {
     "name": "stdout",
     "output_type": "stream",
     "text": [
      "0.02565965688799665\n"
     ]
    }
   ],
   "source": [
    "import scipy.stats as st\n",
    "print((1 - st.norm.cdf(1.9488)))"
   ]
  },
  {
   "cell_type": "markdown",
   "metadata": {},
   "source": [
    "It's worth noting that st.norm.cdf will return the probability that a value take from the distribution is less than our tested value. In other words, 1 - st.norm.cdf(1.9488) will return the probability that the value is greater than our tested value, which is 0.025659 in this example. This calculated number is called $p-value$. If our confidence level our confidence interval is 95%, then we have 2.5% on the left side and 2.5% on the right side. This is called two-tail test. If our null hypothesis is $\\mu=0$, we are conducting two-tail test because the tested sample mean can be either positive enough or negative enough to reject the null hypothesis. We can see it from the chart:\n",
    "![](https://drive.google.com/uc?id=1hSWiVildnk8nwg65Ji7P8Ewy1lu61oxB)\n",
    "\n",
    "If we use 95% confidence interval, we need a p-value less than 0.025 to reject the null hypothesis. However, now our p-value is 0.025659, which is greater than 0.025, thus we can't reject the null hypothesis. It's obviously less than 0.05, so we can still reject the null hypothesis with 90% confidence level. Now let's test the hypothesis that population mean = 0 again with a large sample, which has 1200 observations:"
   ]
  },
  {
   "cell_type": "code",
   "execution_count": 15,
   "metadata": {},
   "outputs": [
    {
     "name": "stdout",
     "output_type": "stream",
     "text": [
      "z-score =  1.705377194419943\n",
      "p_value =  0.04406204943013414\n"
     ]
    }
   ],
   "source": [
    "mean_1200 = np.mean(spy_log_return.tail(1200))\n",
    "std_1200 = np.std(spy_log_return.tail(1200))\n",
    "z_score = np.sqrt(1200)*(mean_1200 - 0)/std_1200\n",
    "print('z-score = ',z_score)\n",
    "p_value = (1 - st.norm.cdf(z_score))\n",
    "print('p_value = ',p_value)"
   ]
  },
  {
   "cell_type": "markdown",
   "metadata": {},
   "source": [
    "Using the a larger sample, now we can reject the null hypothesis with a higher confidence interval! our p-value is 0.0105, and it's a two-tail test, so our confidence level of the interval is 1-(0.0105*2) = 0.979. We can say at most with 97.9% confidence interval, we can claim that the population mean is not zero. We already know that the population mean is not 0. As our sample size increasing, the accurate rate of our hypothesis goes up.\n",
    "\n",
    "**Summary**\n",
    "\n",
    "In this chapter we introduced confidence interval, especially that for the normal distribution, and hypothesis test. Now we know how to test our idea rigorously. Normal distribution and it's confidence interval can be applied to many quantitative finance theories, we will see it frequently in our following tutorials."
   ]
  },
  {
   "cell_type": "code",
   "execution_count": null,
   "metadata": {},
   "outputs": [],
   "source": []
  }
 ],
 "metadata": {
  "kernelspec": {
   "display_name": "Python 3",
   "language": "python",
   "name": "python3"
  },
  "language_info": {
   "codemirror_mode": {
    "name": "ipython",
    "version": 3
   },
   "file_extension": ".py",
   "mimetype": "text/x-python",
   "name": "python",
   "nbconvert_exporter": "python",
   "pygments_lexer": "ipython3",
   "version": "3.6.8"
  }
 },
 "nbformat": 4,
 "nbformat_minor": 2
}
