{
  "nbformat": 4,
  "nbformat_minor": 0,
  "metadata": {
    "colab": {
      "name": "AlgorithmicToolboxWeek2.ipynb",
      "provenance": []
    },
    "kernelspec": {
      "name": "python3",
      "display_name": "Python 3"
    },
    "language_info": {
      "name": "python"
    }
  },
  "cells": [
    {
      "cell_type": "markdown",
      "metadata": {
        "id": "0XtsEOIOZD-q"
      },
      "source": [
        "#Primer Punto, Fibonacci Number"
      ]
    },
    {
      "cell_type": "code",
      "metadata": {
        "colab": {
          "base_uri": "https://localhost:8080/"
        },
        "id": "QsJMny3MTr4b",
        "outputId": "47798190-8b6d-42a1-b281-e092b4300c77"
      },
      "source": [
        "%%writefile fibonacci.py\n",
        "def fibonacci(n):\n",
        "  arr = [0]*(n+1)\n",
        "  arr[0]=0\n",
        "  arr[1]=1\n",
        "  for i in range(2,n+1):\n",
        "    arr[i]=arr[i-2]+arr[i-1]   \n",
        "  return arr[n]\n",
        "\n",
        "n =int(input())\n",
        "print(fibonacci(n))"
      ],
      "execution_count": null,
      "outputs": [
        {
          "output_type": "stream",
          "text": [
            "Writing fibonacci.py\n"
          ],
          "name": "stdout"
        }
      ]
    },
    {
      "cell_type": "code",
      "metadata": {
        "colab": {
          "base_uri": "https://localhost:8080/"
        },
        "id": "hN2jJtK1fnH4",
        "outputId": "a8fdd12e-130d-43fe-f4d8-c3f2d9d4d451"
      },
      "source": [
        "!python fibonacci.py"
      ],
      "execution_count": null,
      "outputs": [
        {
          "output_type": "stream",
          "text": [
            "10\n",
            "55\n"
          ],
          "name": "stdout"
        }
      ]
    },
    {
      "cell_type": "markdown",
      "metadata": {
        "id": "3-qI4p3yZMlR"
      },
      "source": [
        "#Segundo Punto, Last Digit of a Large Fibonacci Number"
      ]
    },
    {
      "cell_type": "code",
      "metadata": {
        "colab": {
          "base_uri": "https://localhost:8080/"
        },
        "id": "qEmq-KhbWEWd",
        "outputId": "3d380123-5a2d-4b24-e0df-dfa79342c7c4"
      },
      "source": [
        "%%writefile fibonacci_last.py\n",
        "def last_digit(n):\n",
        "    if n <= 1:\n",
        "        return n\n",
        "    ant = 0\n",
        "    curr  = 1\n",
        "    for i in range(n-1):\n",
        "        ant, curr = curr, ant + curr\n",
        "    return (curr % 10)\n",
        "\n",
        "n = int(input())\n",
        "print(last_digit(n))"
      ],
      "execution_count": 75,
      "outputs": [
        {
          "output_type": "stream",
          "text": [
            "Overwriting fibonacci_last.py\n"
          ],
          "name": "stdout"
        }
      ]
    },
    {
      "cell_type": "code",
      "metadata": {
        "colab": {
          "base_uri": "https://localhost:8080/"
        },
        "id": "Tg0QDTCfgTkQ",
        "outputId": "18c9765e-60f7-4a5a-f3ec-fac17fd75c98"
      },
      "source": [
        "!python fibonacci_last.py"
      ],
      "execution_count": 76,
      "outputs": [
        {
          "output_type": "stream",
          "text": [
            "331\n",
            "9\n"
          ],
          "name": "stdout"
        }
      ]
    },
    {
      "cell_type": "markdown",
      "metadata": {
        "id": "RC564nRaZf3c"
      },
      "source": [
        "#Tercer Punto, GCD"
      ]
    },
    {
      "cell_type": "code",
      "metadata": {
        "colab": {
          "base_uri": "https://localhost:8080/"
        },
        "id": "tqdVRroqg3JY",
        "outputId": "6713b544-c6aa-4de6-849b-9b3cdbdfe732"
      },
      "source": [
        "%%writefile GCD.py\n",
        "def GCD(a,b):\n",
        "  if(b==0):\n",
        "    return a\n",
        "  else:\n",
        "    return GCD(b,a%b)\n",
        "\n",
        "a,b = map(int,input().split())\n",
        "print(GCD(a,b))\n"
      ],
      "execution_count": 91,
      "outputs": [
        {
          "output_type": "stream",
          "text": [
            "Overwriting GCD.py\n"
          ],
          "name": "stdout"
        }
      ]
    },
    {
      "cell_type": "code",
      "metadata": {
        "colab": {
          "base_uri": "https://localhost:8080/"
        },
        "id": "_AkqIdqDhhTA",
        "outputId": "70e650d6-807b-4c2e-9892-1b7c1bb93628"
      },
      "source": [
        "!python GCD.py"
      ],
      "execution_count": 92,
      "outputs": [
        {
          "output_type": "stream",
          "text": [
            "28851538 1183019\n",
            "17657\n"
          ],
          "name": "stdout"
        }
      ]
    },
    {
      "cell_type": "markdown",
      "metadata": {
        "id": "7NEGVfNIyjBn"
      },
      "source": [
        "#Cuarto Punto, Least Common Multiple (LCM)"
      ]
    },
    {
      "cell_type": "code",
      "metadata": {
        "colab": {
          "base_uri": "https://localhost:8080/"
        },
        "id": "tb4isoL5ykyv",
        "outputId": "33857314-528d-4f86-8676-50a63f68fd85"
      },
      "source": [
        "%%writefile lcm.py\n",
        "def lcm(a, b):\n",
        "    aux = 0\n",
        "    for l in range(1, a*b + 1):\n",
        "        aux = a*l\n",
        "        if(aux%b==0):\n",
        "            return aux\n",
        "    return a*b\n",
        "\n",
        "if __name__ == '__main__':\n",
        "    a, b = map(int, input().split())\n",
        "    print(lcm(a, b))"
      ],
      "execution_count": 89,
      "outputs": [
        {
          "output_type": "stream",
          "text": [
            "Overwriting lcm.py\n"
          ],
          "name": "stdout"
        }
      ]
    },
    {
      "cell_type": "code",
      "metadata": {
        "colab": {
          "base_uri": "https://localhost:8080/"
        },
        "id": "kVS5zeOAzUdv",
        "outputId": "fab6ef7f-257a-4ee5-c6cc-91bcef1c56b2"
      },
      "source": [
        "!python lcm.py"
      ],
      "execution_count": 90,
      "outputs": [
        {
          "output_type": "stream",
          "text": [
            "761457 614573\n",
            "467970912861\n"
          ],
          "name": "stdout"
        }
      ]
    }
  ]
}