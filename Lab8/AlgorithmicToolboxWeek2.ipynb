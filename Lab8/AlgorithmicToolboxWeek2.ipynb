{
  "nbformat": 4,
  "nbformat_minor": 0,
  "metadata": {
    "colab": {
      "name": "AlgorithmicToolboxWeek2.ipynb",
      "provenance": []
    },
    "kernelspec": {
      "name": "python3",
      "display_name": "Python 3"
    },
    "language_info": {
      "name": "python"
    }
  },
  "cells": [
    {
      "cell_type": "markdown",
      "metadata": {
        "id": "0XtsEOIOZD-q"
      },
      "source": [
        "#Primer Punto, Fibonacci Number"
      ]
    },
    {
      "cell_type": "code",
      "metadata": {
        "colab": {
          "base_uri": "https://localhost:8080/"
        },
        "id": "QsJMny3MTr4b",
        "outputId": "47798190-8b6d-42a1-b281-e092b4300c77"
      },
      "source": [
        "%%writefile fibonacci.py\n",
        "def fibonacci(n):\n",
        "  arr = [0]*(n+1)\n",
        "  arr[0]=0\n",
        "  arr[1]=1\n",
        "  for i in range(2,n+1):\n",
        "    arr[i]=arr[i-2]+arr[i-1]   \n",
        "  return arr[n]\n",
        "\n",
        "n =int(input())\n",
        "print(fibonacci(n))"
      ],
      "execution_count": 56,
      "outputs": [
        {
          "output_type": "stream",
          "text": [
            "Writing fibonacci.py\n"
          ],
          "name": "stdout"
        }
      ]
    },
    {
      "cell_type": "code",
      "metadata": {
        "colab": {
          "base_uri": "https://localhost:8080/"
        },
        "id": "hN2jJtK1fnH4",
        "outputId": "a8fdd12e-130d-43fe-f4d8-c3f2d9d4d451"
      },
      "source": [
        "!python fibonacci.py"
      ],
      "execution_count": 57,
      "outputs": [
        {
          "output_type": "stream",
          "text": [
            "10\n",
            "55\n"
          ],
          "name": "stdout"
        }
      ]
    },
    {
      "cell_type": "markdown",
      "metadata": {
        "id": "3-qI4p3yZMlR"
      },
      "source": [
        "#Segundo Punto, Last Digit of a Large Fibonacci Number"
      ]
    },
    {
      "cell_type": "code",
      "metadata": {
        "colab": {
          "base_uri": "https://localhost:8080/"
        },
        "id": "qEmq-KhbWEWd",
        "outputId": "ba59c385-d780-496c-f02f-0c7b3074d510"
      },
      "source": [
        "%%writefile fibonacci_last.py\n",
        "import sys\n",
        "def get_fibonacci_last_digit_naive(n):\n",
        "    if n <= 1:\n",
        "        return n\n",
        "\n",
        "    previous = 0\n",
        "    current  = 1\n",
        "\n",
        "    for i in range(n - 1):\n",
        "        previous, current = current, previous + current\n",
        "    return (current % 10)\n",
        "\n",
        "n = int(input())\n",
        "print(get_fibonacci_last_digit_naive(n))"
      ],
      "execution_count": 69,
      "outputs": [
        {
          "output_type": "stream",
          "text": [
            "Overwriting fibonacci_last.py\n"
          ],
          "name": "stdout"
        }
      ]
    },
    {
      "cell_type": "code",
      "metadata": {
        "colab": {
          "base_uri": "https://localhost:8080/"
        },
        "id": "Tg0QDTCfgTkQ",
        "outputId": "ba81a82d-baa7-4345-df0e-36fbb56e2a57"
      },
      "source": [
        "!python fibonacci_last.py"
      ],
      "execution_count": 71,
      "outputs": [
        {
          "output_type": "stream",
          "text": [
            "327305\n",
            "5\n"
          ],
          "name": "stdout"
        }
      ]
    },
    {
      "cell_type": "markdown",
      "metadata": {
        "id": "RC564nRaZf3c"
      },
      "source": [
        "#Tercer Punto, GCD"
      ]
    },
    {
      "cell_type": "code",
      "metadata": {
        "colab": {
          "base_uri": "https://localhost:8080/"
        },
        "id": "tqdVRroqg3JY",
        "outputId": "2eb12096-6777-431e-af8f-0b6575905b80"
      },
      "source": [
        "%%writefile GCD.py\n",
        "def GCD(a,b):\n",
        "  if(b==0):\n",
        "    return a\n",
        "  else:\n",
        "    return GCD(b,a%b)\n",
        "\n",
        "a = int(input())\n",
        "b = int(input())\n",
        "print(GCD(a,b))\n"
      ],
      "execution_count": 62,
      "outputs": [
        {
          "output_type": "stream",
          "text": [
            "Writing GCD.py\n"
          ],
          "name": "stdout"
        }
      ]
    },
    {
      "cell_type": "code",
      "metadata": {
        "colab": {
          "base_uri": "https://localhost:8080/"
        },
        "id": "_AkqIdqDhhTA",
        "outputId": "6edcfd2f-a223-469d-f56d-9447d4cae051"
      },
      "source": [
        "!python GCD.py"
      ],
      "execution_count": 65,
      "outputs": [
        {
          "output_type": "stream",
          "text": [
            "28851538\n",
            "1183019\n",
            "17657\n"
          ],
          "name": "stdout"
        }
      ]
    }
  ]
}