{
  "nbformat": 4,
  "nbformat_minor": 0,
  "metadata": {
    "colab": {
      "name": "AlgorithmicToolboxWeek3Group15.ipynb",
      "provenance": []
    },
    "kernelspec": {
      "name": "python3",
      "display_name": "Python 3"
    },
    "language_info": {
      "name": "python"
    }
  },
  "cells": [
    {
      "cell_type": "markdown",
      "metadata": {
        "id": "X7CwvE0lzE3J"
      },
      "source": [
        "#Lab 11"
      ]
    },
    {
      "cell_type": "markdown",
      "metadata": {
        "id": "gLjwykF4_p-k"
      },
      "source": [
        "#Money Change"
      ]
    },
    {
      "cell_type": "code",
      "metadata": {
        "colab": {
          "base_uri": "https://localhost:8080/"
        },
        "id": "DLKrzlfbzBq_",
        "outputId": "07118aee-03a2-4d4c-8426-7a0def24903f"
      },
      "source": [
        "%%writefile change.cpp\n",
        "#include <bits/stdc++.h>\n",
        "using namespace std;\n",
        "int vueltas(int m) {\n",
        "  int n=0;\n",
        "  n += m / 10;\n",
        "  m=m % 10;\n",
        "  n += m / 5;\n",
        "  m = m % 5;\n",
        "  n += m;\n",
        "  return n;\n",
        "}\n",
        "\n",
        "int main() {\n",
        "  int m;\n",
        "  cin >> m;\n",
        "  cout << vueltas(m) << '\\n';\n",
        "  return 0;\n",
        "}"
      ],
      "execution_count": 5,
      "outputs": [
        {
          "output_type": "stream",
          "text": [
            "Overwriting change.cpp\n"
          ],
          "name": "stdout"
        }
      ]
    },
    {
      "cell_type": "code",
      "metadata": {
        "colab": {
          "base_uri": "https://localhost:8080/"
        },
        "id": "WE_Q3zDCzbQh",
        "outputId": "5ee78f8b-5cf2-49ec-b5fa-74a9aea88890"
      },
      "source": [
        "!g++ change.cpp -o change\n",
        "!./change"
      ],
      "execution_count": 7,
      "outputs": [
        {
          "output_type": "stream",
          "text": [
            "28\n",
            "6\n"
          ],
          "name": "stdout"
        }
      ]
    },
    {
      "cell_type": "markdown",
      "metadata": {
        "id": "myXmJudv_tqk"
      },
      "source": [
        "#Maximum value of loot"
      ]
    },
    {
      "cell_type": "code",
      "metadata": {
        "colab": {
          "base_uri": "https://localhost:8080/"
        },
        "id": "vGTQNNMx69jm",
        "outputId": "9b805b9a-e76a-4813-bed2-b89bf816d8c1"
      },
      "source": [
        "%%writefile fractional_knapsack.cpp\n",
        "#include <bits/stdc++.h>\n",
        "\n",
        "using namespace std;\n",
        "\n",
        "struct Loot{\n",
        "\tint valor, peso;\n",
        "};\n",
        "bool cmp(Loot x, Loot y){\n",
        "\tdouble r1=(double)x.valor/x.peso;\n",
        "\tdouble r2=(double)y.valor/y.peso;\n",
        "\treturn r1>r2;\n",
        "}\n",
        "void answer(Loot looteo[], int n, int restrict){\n",
        "\t\tsort(looteo, looteo+n, cmp);\n",
        "\t\tdouble dol=0;\n",
        "\t\tint we=0;\n",
        "\t\tfor(int i=0;i<n;i++){\n",
        "\t\t\tif(looteo[i].peso+we<restrict){\n",
        "\t\t\t\tdol+=looteo[i].valor;\n",
        "\t\t\t\twe+=looteo[i].peso;\n",
        "\t\t\t}else{\n",
        "\t\t\t\tint temp_peso=restrict-we;\n",
        "\t\t\t\tdol+=((double)temp_peso/(looteo[i].peso))*(looteo[i].valor);\n",
        "\t\t\t\tbreak;\n",
        "\t\t\t}\n",
        "\t\t}\n",
        "\t\tcout.precision(10);\n",
        "\t\tcout << dol << endl;\n",
        "\t}\n",
        "int main(){\n",
        "\t//a[n]\n",
        "\tLoot *looteo = new Loot[10000];\n",
        "\tint n, restrict ;\n",
        "\tcin >> n >> restrict;\n",
        "\tfor(int i = 0; i  < n; i++){\n",
        "\t    cin >> looteo[i].valor ; \n",
        "\t    cin >> looteo[i].peso ;\n",
        "\t}\n",
        "\tanswer(looteo, n, restrict);\n",
        "\treturn 0;\n",
        "}"
      ],
      "execution_count": 11,
      "outputs": [
        {
          "output_type": "stream",
          "text": [
            "Writing fractional_knapsack.cpp\n"
          ],
          "name": "stdout"
        }
      ]
    },
    {
      "cell_type": "code",
      "metadata": {
        "colab": {
          "base_uri": "https://localhost:8080/"
        },
        "id": "V0teqA2Q695e",
        "outputId": "43e6d6ad-bda6-43c0-bf49-3220f533bfe2"
      },
      "source": [
        "!g++ fractional_knapsack.cpp -o fractional\n",
        "!./fractional"
      ],
      "execution_count": 13,
      "outputs": [
        {
          "output_type": "stream",
          "text": [
            "1 10\n",
            "500 30\n",
            "166.6666667\n"
          ],
          "name": "stdout"
        }
      ]
    },
    {
      "cell_type": "markdown",
      "metadata": {
        "id": "YVSeSWqO_zjk"
      },
      "source": [
        "#Car fueling"
      ]
    },
    {
      "cell_type": "code",
      "metadata": {
        "colab": {
          "base_uri": "https://localhost:8080/"
        },
        "id": "IOi3uOAB2ZqA",
        "outputId": "0ee1c175-3e32-4b61-b945-55f76e2afc5f"
      },
      "source": [
        "%%writefile car_fueling.cpp\n",
        "#include <bits/stdc++.h>\n",
        "\n",
        "using namespace std;\n",
        "\n",
        "int relleno(int d ,int maxi,int n,vector<int> gas){\n",
        "    int ans = 0;\n",
        "    int i=0;\n",
        "    int limitante=maxi;\n",
        "    int miles=maxi;\n",
        "    while(limitante < d){\n",
        "        if(i >= n || gas[i] > limitante){\n",
        "            return -1;\n",
        "        }        \n",
        "            while((i < n-1) && (gas[i+1] <= limitante)){\n",
        "                i++;\n",
        "            }\n",
        "            ans++;\n",
        "            limitante = gas[i]+miles;\n",
        "            i++;\n",
        "    }    \n",
        "    return ans;\n",
        "}\n",
        "\n",
        "int main(){\n",
        "    int d, maxi , n;\n",
        "    cin >> d>> maxi >> n;\n",
        "    vector<int> gas(n);\n",
        "    for(int i = 0; i < n; i++ )\n",
        "        cin >> gas[i];\n",
        "    cout<<(relleno(d, maxi , n , gas));    \n",
        "    return 0;\n",
        "}"
      ],
      "execution_count": 8,
      "outputs": [
        {
          "output_type": "stream",
          "text": [
            "Writing car_fueling.cpp\n"
          ],
          "name": "stdout"
        }
      ]
    },
    {
      "cell_type": "code",
      "metadata": {
        "colab": {
          "base_uri": "https://localhost:8080/"
        },
        "id": "3X6-rbmt8c62",
        "outputId": "ad047269-e517-4e2f-b83e-cec8773a0989"
      },
      "source": [
        "!g++ car_fueling.cpp -o car_fueling \n",
        "!./car_fueling"
      ],
      "execution_count": 9,
      "outputs": [
        {
          "output_type": "stream",
          "text": [
            "950\n",
            "400\n",
            "4\n",
            "200 375 550 750\n",
            "2"
          ],
          "name": "stdout"
        }
      ]
    },
    {
      "cell_type": "markdown",
      "metadata": {
        "id": "cOqJPY5NBa40"
      },
      "source": [
        "#Evidencias\n",
        "![](https://drive.google.com/uc?id=1T8B2eAYPAraS25eub31GGSqa6hOBQLKz)"
      ]
    }
  ]
}